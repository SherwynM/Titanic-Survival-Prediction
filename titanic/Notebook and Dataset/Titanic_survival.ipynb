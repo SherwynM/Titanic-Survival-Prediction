{
  "cells": [
    {
      "cell_type": "code",
      "execution_count": null,
      "metadata": {
        "id": "l3z3XtMhfF-Q"
      },
      "outputs": [
        {
          "ename": "",
          "evalue": "",
          "output_type": "error",
          "traceback": [
            "\u001b[1;31mThe kernel failed to start as the Python Environment 'venv' is no longer available. Consider selecting another kernel or refreshing the list of Python Environments."
          ]
        }
      ],
      "source": [
        "import pandas as pd\n",
        "import numpy as np\n",
        "import matplotlib.pyplot as plt\n",
        "import seaborn as sns"
      ]
    },
    {
      "cell_type": "code",
      "execution_count": 3,
      "metadata": {
        "colab": {
          "base_uri": "https://localhost:8080/",
          "height": 258
        },
        "id": "1BDTDS6pqP0c",
        "outputId": "fa9b4165-3dd6-49d7-f331-ce1dfc4cfee7"
      },
      "outputs": [
        {
          "data": {
            "text/html": [
              "<div>\n",
              "<style scoped>\n",
              "    .dataframe tbody tr th:only-of-type {\n",
              "        vertical-align: middle;\n",
              "    }\n",
              "\n",
              "    .dataframe tbody tr th {\n",
              "        vertical-align: top;\n",
              "    }\n",
              "\n",
              "    .dataframe thead th {\n",
              "        text-align: right;\n",
              "    }\n",
              "</style>\n",
              "<table border=\"1\" class=\"dataframe\">\n",
              "  <thead>\n",
              "    <tr style=\"text-align: right;\">\n",
              "      <th></th>\n",
              "      <th>PassengerId</th>\n",
              "      <th>Survived</th>\n",
              "      <th>Pclass</th>\n",
              "      <th>Name</th>\n",
              "      <th>Sex</th>\n",
              "      <th>Age</th>\n",
              "      <th>SibSp</th>\n",
              "      <th>Parch</th>\n",
              "      <th>Ticket</th>\n",
              "      <th>Fare</th>\n",
              "      <th>Cabin</th>\n",
              "      <th>Embarked</th>\n",
              "    </tr>\n",
              "  </thead>\n",
              "  <tbody>\n",
              "    <tr>\n",
              "      <th>0</th>\n",
              "      <td>1</td>\n",
              "      <td>0</td>\n",
              "      <td>3</td>\n",
              "      <td>Braund, Mr. Owen Harris</td>\n",
              "      <td>male</td>\n",
              "      <td>22.0</td>\n",
              "      <td>1</td>\n",
              "      <td>0</td>\n",
              "      <td>A/5 21171</td>\n",
              "      <td>7.2500</td>\n",
              "      <td>NaN</td>\n",
              "      <td>S</td>\n",
              "    </tr>\n",
              "    <tr>\n",
              "      <th>1</th>\n",
              "      <td>2</td>\n",
              "      <td>1</td>\n",
              "      <td>1</td>\n",
              "      <td>Cumings, Mrs. John Bradley (Florence Briggs Th...</td>\n",
              "      <td>female</td>\n",
              "      <td>38.0</td>\n",
              "      <td>1</td>\n",
              "      <td>0</td>\n",
              "      <td>PC 17599</td>\n",
              "      <td>71.2833</td>\n",
              "      <td>C85</td>\n",
              "      <td>C</td>\n",
              "    </tr>\n",
              "    <tr>\n",
              "      <th>2</th>\n",
              "      <td>3</td>\n",
              "      <td>1</td>\n",
              "      <td>3</td>\n",
              "      <td>Heikkinen, Miss. Laina</td>\n",
              "      <td>female</td>\n",
              "      <td>26.0</td>\n",
              "      <td>0</td>\n",
              "      <td>0</td>\n",
              "      <td>STON/O2. 3101282</td>\n",
              "      <td>7.9250</td>\n",
              "      <td>NaN</td>\n",
              "      <td>S</td>\n",
              "    </tr>\n",
              "    <tr>\n",
              "      <th>3</th>\n",
              "      <td>4</td>\n",
              "      <td>1</td>\n",
              "      <td>1</td>\n",
              "      <td>Futrelle, Mrs. Jacques Heath (Lily May Peel)</td>\n",
              "      <td>female</td>\n",
              "      <td>35.0</td>\n",
              "      <td>1</td>\n",
              "      <td>0</td>\n",
              "      <td>113803</td>\n",
              "      <td>53.1000</td>\n",
              "      <td>C123</td>\n",
              "      <td>S</td>\n",
              "    </tr>\n",
              "    <tr>\n",
              "      <th>4</th>\n",
              "      <td>5</td>\n",
              "      <td>0</td>\n",
              "      <td>3</td>\n",
              "      <td>Allen, Mr. William Henry</td>\n",
              "      <td>male</td>\n",
              "      <td>35.0</td>\n",
              "      <td>0</td>\n",
              "      <td>0</td>\n",
              "      <td>373450</td>\n",
              "      <td>8.0500</td>\n",
              "      <td>NaN</td>\n",
              "      <td>S</td>\n",
              "    </tr>\n",
              "  </tbody>\n",
              "</table>\n",
              "</div>"
            ],
            "text/plain": [
              "   PassengerId  Survived  Pclass  \\\n",
              "0            1         0       3   \n",
              "1            2         1       1   \n",
              "2            3         1       3   \n",
              "3            4         1       1   \n",
              "4            5         0       3   \n",
              "\n",
              "                                                Name     Sex   Age  SibSp  \\\n",
              "0                            Braund, Mr. Owen Harris    male  22.0      1   \n",
              "1  Cumings, Mrs. John Bradley (Florence Briggs Th...  female  38.0      1   \n",
              "2                             Heikkinen, Miss. Laina  female  26.0      0   \n",
              "3       Futrelle, Mrs. Jacques Heath (Lily May Peel)  female  35.0      1   \n",
              "4                           Allen, Mr. William Henry    male  35.0      0   \n",
              "\n",
              "   Parch            Ticket     Fare Cabin Embarked  \n",
              "0      0         A/5 21171   7.2500   NaN        S  \n",
              "1      0          PC 17599  71.2833   C85        C  \n",
              "2      0  STON/O2. 3101282   7.9250   NaN        S  \n",
              "3      0            113803  53.1000  C123        S  \n",
              "4      0            373450   8.0500   NaN        S  "
            ]
          },
          "execution_count": 3,
          "metadata": {},
          "output_type": "execute_result"
        }
      ],
      "source": [
        "data= pd.read_csv(\"train.csv\")\n",
        "data.head()"
      ]
    },
    {
      "cell_type": "code",
      "execution_count": 4,
      "metadata": {
        "colab": {
          "base_uri": "https://localhost:8080/"
        },
        "id": "WvJ3J76orIZo",
        "outputId": "be17211f-3707-4bb9-bc54-2df0cdd31e7b"
      },
      "outputs": [
        {
          "data": {
            "text/plain": [
              "(891, 12)"
            ]
          },
          "execution_count": 4,
          "metadata": {},
          "output_type": "execute_result"
        }
      ],
      "source": [
        "data.shape\n",
        "# The dataset has 891 Records and 12 Columns"
      ]
    },
    {
      "cell_type": "markdown",
      "metadata": {
        "id": "xb7DGtIS_0u-"
      },
      "source": [
        "<h1><u><b>Data Dictionary</u></b></h1>\n",
        "\n",
        "PassengerId<br>\n",
        "Survival<br>\n",
        "P class (Ticket Class)<br>\n",
        "Name<br>\n",
        "Sex<br>\n",
        "Age<br>\n",
        "Sibsp (No of Siblings and Spouses)<br>\n",
        "parch (No of Parents and Children)<br>\n",
        "ticket<br>\n",
        "fare<br>\n",
        "Cabin<br>\n",
        "Embarked\n"
      ]
    },
    {
      "cell_type": "code",
      "execution_count": 5,
      "metadata": {
        "colab": {
          "base_uri": "https://localhost:8080/"
        },
        "id": "dw4LakbmO10f",
        "outputId": "c7cc0091-e0b8-4dd4-8708-5edcb7962c68"
      },
      "outputs": [
        {
          "name": "stdout",
          "output_type": "stream",
          "text": [
            "<class 'pandas.core.frame.DataFrame'>\n",
            "RangeIndex: 891 entries, 0 to 890\n",
            "Data columns (total 12 columns):\n",
            " #   Column       Non-Null Count  Dtype  \n",
            "---  ------       --------------  -----  \n",
            " 0   PassengerId  891 non-null    int64  \n",
            " 1   Survived     891 non-null    int64  \n",
            " 2   Pclass       891 non-null    int64  \n",
            " 3   Name         891 non-null    object \n",
            " 4   Sex          891 non-null    object \n",
            " 5   Age          714 non-null    float64\n",
            " 6   SibSp        891 non-null    int64  \n",
            " 7   Parch        891 non-null    int64  \n",
            " 8   Ticket       891 non-null    object \n",
            " 9   Fare         891 non-null    float64\n",
            " 10  Cabin        204 non-null    object \n",
            " 11  Embarked     889 non-null    object \n",
            "dtypes: float64(2), int64(5), object(5)\n",
            "memory usage: 83.7+ KB\n"
          ]
        }
      ],
      "source": [
        "data.info()"
      ]
    },
    {
      "cell_type": "markdown",
      "metadata": {
        "id": "BdrrkFjuYNKP"
      },
      "source": [
        "The columnn 'Cabin' has a lot of null values() and therefore it is best to just drop the entire column as it's just a Cabin number"
      ]
    },
    {
      "cell_type": "code",
      "execution_count": 6,
      "metadata": {
        "id": "Zsyr--RPYpsC"
      },
      "outputs": [],
      "source": [
        "data.drop(\"Cabin\",axis='columns',inplace=True)"
      ]
    },
    {
      "cell_type": "code",
      "execution_count": 7,
      "metadata": {
        "colab": {
          "base_uri": "https://localhost:8080/"
        },
        "id": "BhZ7zBgyZDCs",
        "outputId": "ae24bff7-af50-4c9a-e76f-ccf276d8e0f0"
      },
      "outputs": [
        {
          "name": "stdout",
          "output_type": "stream",
          "text": [
            "<class 'pandas.core.frame.DataFrame'>\n",
            "RangeIndex: 891 entries, 0 to 890\n",
            "Data columns (total 11 columns):\n",
            " #   Column       Non-Null Count  Dtype  \n",
            "---  ------       --------------  -----  \n",
            " 0   PassengerId  891 non-null    int64  \n",
            " 1   Survived     891 non-null    int64  \n",
            " 2   Pclass       891 non-null    int64  \n",
            " 3   Name         891 non-null    object \n",
            " 4   Sex          891 non-null    object \n",
            " 5   Age          714 non-null    float64\n",
            " 6   SibSp        891 non-null    int64  \n",
            " 7   Parch        891 non-null    int64  \n",
            " 8   Ticket       891 non-null    object \n",
            " 9   Fare         891 non-null    float64\n",
            " 10  Embarked     889 non-null    object \n",
            "dtypes: float64(2), int64(5), object(4)\n",
            "memory usage: 76.7+ KB\n"
          ]
        }
      ],
      "source": [
        "data.info()"
      ]
    },
    {
      "cell_type": "code",
      "execution_count": 8,
      "metadata": {
        "colab": {
          "base_uri": "https://localhost:8080/"
        },
        "id": "J6dg53yMRRuA",
        "outputId": "4398a3d6-851d-4db0-c8ab-ce5475e324e7"
      },
      "outputs": [
        {
          "data": {
            "text/plain": [
              "PassengerId      0\n",
              "Survived         0\n",
              "Pclass           0\n",
              "Name             0\n",
              "Sex              0\n",
              "Age            177\n",
              "SibSp            0\n",
              "Parch            0\n",
              "Ticket           0\n",
              "Fare             0\n",
              "Embarked         2\n",
              "dtype: int64"
            ]
          },
          "execution_count": 8,
          "metadata": {},
          "output_type": "execute_result"
        }
      ],
      "source": [
        "data.isnull().sum()"
      ]
    },
    {
      "cell_type": "code",
      "execution_count": 9,
      "metadata": {
        "colab": {
          "base_uri": "https://localhost:8080/"
        },
        "id": "PblTxzSQYByG",
        "outputId": "8acefbc8-2ef4-4077-a7e8-dfeece1547a7"
      },
      "outputs": [
        {
          "name": "stdout",
          "output_type": "stream",
          "text": [
            "[22.   38.   26.   35.     nan 54.    2.   27.   14.    4.   58.   20.\n",
            " 39.   55.   31.   34.   15.   28.    8.   19.   40.   66.   42.   21.\n",
            " 18.    3.    7.   49.   29.   65.   28.5   5.   11.   45.   17.   32.\n",
            " 16.   25.    0.83 30.   33.   23.   24.   46.   59.   71.   37.   47.\n",
            " 14.5  70.5  32.5  12.    9.   36.5  51.   55.5  40.5  44.    1.   61.\n",
            " 56.   50.   36.   45.5  20.5  62.   41.   52.   63.   23.5   0.92 43.\n",
            " 60.   10.   64.   13.   48.    0.75 53.   57.   80.   70.   24.5   6.\n",
            "  0.67 30.5   0.42 34.5  74.  ]\n"
          ]
        }
      ],
      "source": [
        "print(data['Age'].unique())"
      ]
    },
    {
      "cell_type": "code",
      "execution_count": 10,
      "metadata": {
        "colab": {
          "base_uri": "https://localhost:8080/"
        },
        "id": "pZwGzxKVixwm",
        "outputId": "a0bc1e18-697b-48bd-85f0-9f9a5f22baf8"
      },
      "outputs": [
        {
          "name": "stdout",
          "output_type": "stream",
          "text": [
            "Age\n",
            "24.00    30\n",
            "22.00    27\n",
            "18.00    26\n",
            "19.00    25\n",
            "28.00    25\n",
            "         ..\n",
            "36.50     1\n",
            "55.50     1\n",
            "0.92      1\n",
            "23.50     1\n",
            "74.00     1\n",
            "Name: count, Length: 88, dtype: int64\n"
          ]
        }
      ],
      "source": [
        "print(data['Age'].value_counts())"
      ]
    },
    {
      "cell_type": "code",
      "execution_count": 11,
      "metadata": {
        "colab": {
          "base_uri": "https://localhost:8080/"
        },
        "id": "YrT1MCuyi3yW",
        "outputId": "8808b043-b73c-4df1-9956-53b419434c95"
      },
      "outputs": [
        {
          "data": {
            "text/plain": [
              "14.516321150817316"
            ]
          },
          "execution_count": 11,
          "metadata": {},
          "output_type": "execute_result"
        }
      ],
      "source": [
        "np.std(data['Age'])"
      ]
    },
    {
      "cell_type": "code",
      "execution_count": 12,
      "metadata": {
        "colab": {
          "base_uri": "https://localhost:8080/",
          "height": 300
        },
        "id": "1aDORhNwjOMw",
        "outputId": "f28ba3bf-3722-4421-f945-5e57a2aab4a0"
      },
      "outputs": [
        {
          "data": {
            "text/html": [
              "<div>\n",
              "<style scoped>\n",
              "    .dataframe tbody tr th:only-of-type {\n",
              "        vertical-align: middle;\n",
              "    }\n",
              "\n",
              "    .dataframe tbody tr th {\n",
              "        vertical-align: top;\n",
              "    }\n",
              "\n",
              "    .dataframe thead th {\n",
              "        text-align: right;\n",
              "    }\n",
              "</style>\n",
              "<table border=\"1\" class=\"dataframe\">\n",
              "  <thead>\n",
              "    <tr style=\"text-align: right;\">\n",
              "      <th></th>\n",
              "      <th>PassengerId</th>\n",
              "      <th>Survived</th>\n",
              "      <th>Pclass</th>\n",
              "      <th>Age</th>\n",
              "      <th>SibSp</th>\n",
              "      <th>Parch</th>\n",
              "      <th>Fare</th>\n",
              "    </tr>\n",
              "  </thead>\n",
              "  <tbody>\n",
              "    <tr>\n",
              "      <th>count</th>\n",
              "      <td>891.000000</td>\n",
              "      <td>891.000000</td>\n",
              "      <td>891.000000</td>\n",
              "      <td>714.000000</td>\n",
              "      <td>891.000000</td>\n",
              "      <td>891.000000</td>\n",
              "      <td>891.000000</td>\n",
              "    </tr>\n",
              "    <tr>\n",
              "      <th>mean</th>\n",
              "      <td>446.000000</td>\n",
              "      <td>0.383838</td>\n",
              "      <td>2.308642</td>\n",
              "      <td>29.699118</td>\n",
              "      <td>0.523008</td>\n",
              "      <td>0.381594</td>\n",
              "      <td>32.204208</td>\n",
              "    </tr>\n",
              "    <tr>\n",
              "      <th>std</th>\n",
              "      <td>257.353842</td>\n",
              "      <td>0.486592</td>\n",
              "      <td>0.836071</td>\n",
              "      <td>14.526497</td>\n",
              "      <td>1.102743</td>\n",
              "      <td>0.806057</td>\n",
              "      <td>49.693429</td>\n",
              "    </tr>\n",
              "    <tr>\n",
              "      <th>min</th>\n",
              "      <td>1.000000</td>\n",
              "      <td>0.000000</td>\n",
              "      <td>1.000000</td>\n",
              "      <td>0.420000</td>\n",
              "      <td>0.000000</td>\n",
              "      <td>0.000000</td>\n",
              "      <td>0.000000</td>\n",
              "    </tr>\n",
              "    <tr>\n",
              "      <th>25%</th>\n",
              "      <td>223.500000</td>\n",
              "      <td>0.000000</td>\n",
              "      <td>2.000000</td>\n",
              "      <td>20.125000</td>\n",
              "      <td>0.000000</td>\n",
              "      <td>0.000000</td>\n",
              "      <td>7.910400</td>\n",
              "    </tr>\n",
              "    <tr>\n",
              "      <th>50%</th>\n",
              "      <td>446.000000</td>\n",
              "      <td>0.000000</td>\n",
              "      <td>3.000000</td>\n",
              "      <td>28.000000</td>\n",
              "      <td>0.000000</td>\n",
              "      <td>0.000000</td>\n",
              "      <td>14.454200</td>\n",
              "    </tr>\n",
              "    <tr>\n",
              "      <th>75%</th>\n",
              "      <td>668.500000</td>\n",
              "      <td>1.000000</td>\n",
              "      <td>3.000000</td>\n",
              "      <td>38.000000</td>\n",
              "      <td>1.000000</td>\n",
              "      <td>0.000000</td>\n",
              "      <td>31.000000</td>\n",
              "    </tr>\n",
              "    <tr>\n",
              "      <th>max</th>\n",
              "      <td>891.000000</td>\n",
              "      <td>1.000000</td>\n",
              "      <td>3.000000</td>\n",
              "      <td>80.000000</td>\n",
              "      <td>8.000000</td>\n",
              "      <td>6.000000</td>\n",
              "      <td>512.329200</td>\n",
              "    </tr>\n",
              "  </tbody>\n",
              "</table>\n",
              "</div>"
            ],
            "text/plain": [
              "       PassengerId    Survived      Pclass         Age       SibSp  \\\n",
              "count   891.000000  891.000000  891.000000  714.000000  891.000000   \n",
              "mean    446.000000    0.383838    2.308642   29.699118    0.523008   \n",
              "std     257.353842    0.486592    0.836071   14.526497    1.102743   \n",
              "min       1.000000    0.000000    1.000000    0.420000    0.000000   \n",
              "25%     223.500000    0.000000    2.000000   20.125000    0.000000   \n",
              "50%     446.000000    0.000000    3.000000   28.000000    0.000000   \n",
              "75%     668.500000    1.000000    3.000000   38.000000    1.000000   \n",
              "max     891.000000    1.000000    3.000000   80.000000    8.000000   \n",
              "\n",
              "            Parch        Fare  \n",
              "count  891.000000  891.000000  \n",
              "mean     0.381594   32.204208  \n",
              "std      0.806057   49.693429  \n",
              "min      0.000000    0.000000  \n",
              "25%      0.000000    7.910400  \n",
              "50%      0.000000   14.454200  \n",
              "75%      0.000000   31.000000  \n",
              "max      6.000000  512.329200  "
            ]
          },
          "execution_count": 12,
          "metadata": {},
          "output_type": "execute_result"
        }
      ],
      "source": [
        "data.describe()"
      ]
    },
    {
      "cell_type": "code",
      "execution_count": 13,
      "metadata": {
        "colab": {
          "base_uri": "https://localhost:8080/",
          "height": 518
        },
        "id": "It_bsgg6kNAe",
        "outputId": "4fc2ec9a-5fb1-4755-be0d-873a6857fd29"
      },
      "outputs": [
        {
          "data": {
            "text/plain": [
              "<Axes: xlabel='Age', ylabel='Count'>"
            ]
          },
          "execution_count": 13,
          "metadata": {},
          "output_type": "execute_result"
        },
        {
          "data": {
            "image/png": "[encoded data removed]",
            "text/plain": [
              "<Figure size 1500x700 with 1 Axes>"
            ]
          },
          "metadata": {},
          "output_type": "display_data"
        }
      ],
      "source": [
        "fig,axes=plt.subplots(1,1,figsize=(15,7))\n",
        "sns.histplot(data['Age'],kde=True,ax=axes,color='salmon')"
      ]
    },
    {
      "cell_type": "markdown",
      "metadata": {
        "id": "sjvCpmWPksf9"
      },
      "source": [
        "**Age** is Ranging from **0-80 years.**<br>\n",
        "The **highest count** appears to be **around 20-25** indicating **most frequent age group.**<br>\n",
        "Data is **Slightly skewed towards older ages**\n",
        "\n"
      ]
    },
    {
      "cell_type": "code",
      "execution_count": 14,
      "metadata": {
        "colab": {
          "base_uri": "https://localhost:8080/"
        },
        "id": "rBcb3lwxmtmw",
        "outputId": "7eeaccce-1300-4573-fa83-cd68a774454b"
      },
      "outputs": [
        {
          "name": "stdout",
          "output_type": "stream",
          "text": [
            "Skewness 0.38910778230082704\n",
            "Kurtosis 0.17827415364210353\n"
          ]
        }
      ],
      "source": [
        "print(\"Skewness\",data['Age'].skew())\n",
        "print(\"Kurtosis\",data['Age'].kurtosis())"
      ]
    },
    {
      "cell_type": "code",
      "execution_count": 15,
      "metadata": {
        "id": "AuEuBm6MhRjx"
      },
      "outputs": [
        {
          "name": "stderr",
          "output_type": "stream",
          "text": [
            "C:\\Users\\Sherwyn\\AppData\\Local\\Temp\\ipykernel_8864\\1089344872.py:3: FutureWarning: A value is trying to be set on a copy of a DataFrame or Series through chained assignment using an inplace method.\n",
            "The behavior will change in pandas 3.0. This inplace method will never work because the intermediate object on which we are setting values always behaves as a copy.\n",
            "\n",
            "For example, when doing 'df[col].method(value, inplace=True)', try using 'df.method({col: value}, inplace=True)' or df[col] = df[col].method(value) instead, to perform the operation inplace on the original object.\n",
            "\n",
            "\n",
            "  data['Age'].fillna(data['Age'].median(),inplace=True)\n"
          ]
        }
      ],
      "source": [
        "# prompt: I want to print only the age column without  null values\n",
        "\n",
        "data['Age'].fillna(data['Age'].median(),inplace=True)"
      ]
    },
    {
      "cell_type": "code",
      "execution_count": 16,
      "metadata": {
        "colab": {
          "base_uri": "https://localhost:8080/"
        },
        "id": "AtyuEBY2iIfL",
        "outputId": "fc96852e-1f95-45cd-d646-b61870570f5d"
      },
      "outputs": [
        {
          "data": {
            "text/plain": [
              "Embarked\n",
              "S      644\n",
              "C      168\n",
              "Q       77\n",
              "NaN      2\n",
              "Name: count, dtype: int64"
            ]
          },
          "execution_count": 16,
          "metadata": {},
          "output_type": "execute_result"
        }
      ],
      "source": [
        "data['Embarked'].value_counts(dropna=False)"
      ]
    },
    {
      "cell_type": "code",
      "execution_count": 17,
      "metadata": {
        "colab": {
          "base_uri": "https://localhost:8080/",
          "height": 36
        },
        "id": "x0aJVk0_iRKz",
        "outputId": "10fccd0b-c382-4e83-aae8-c4d9f346d34e"
      },
      "outputs": [
        {
          "data": {
            "text/plain": [
              "'S'"
            ]
          },
          "execution_count": 17,
          "metadata": {},
          "output_type": "execute_result"
        }
      ],
      "source": [
        "data['Embarked'].mode()[0]"
      ]
    },
    {
      "cell_type": "code",
      "execution_count": 18,
      "metadata": {
        "id": "i3kVy4UvjX-B"
      },
      "outputs": [
        {
          "name": "stderr",
          "output_type": "stream",
          "text": [
            "C:\\Users\\Sherwyn\\AppData\\Local\\Temp\\ipykernel_8864\\1523684883.py:1: FutureWarning: A value is trying to be set on a copy of a DataFrame or Series through chained assignment using an inplace method.\n",
            "The behavior will change in pandas 3.0. This inplace method will never work because the intermediate object on which we are setting values always behaves as a copy.\n",
            "\n",
            "For example, when doing 'df[col].method(value, inplace=True)', try using 'df.method({col: value}, inplace=True)' or df[col] = df[col].method(value) instead, to perform the operation inplace on the original object.\n",
            "\n",
            "\n",
            "  data['Embarked'].fillna(data['Embarked'].mode()[0],inplace=True)\n"
          ]
        }
      ],
      "source": [
        "data['Embarked'].fillna(data['Embarked'].mode()[0],inplace=True)"
      ]
    },
    {
      "cell_type": "code",
      "execution_count": 19,
      "metadata": {
        "colab": {
          "base_uri": "https://localhost:8080/"
        },
        "id": "IzEnH1Apjmkg",
        "outputId": "1e8ef707-141b-490c-ee5c-e5ce7c615ef3"
      },
      "outputs": [
        {
          "data": {
            "text/plain": [
              "PassengerId    0\n",
              "Survived       0\n",
              "Pclass         0\n",
              "Name           0\n",
              "Sex            0\n",
              "Age            0\n",
              "SibSp          0\n",
              "Parch          0\n",
              "Ticket         0\n",
              "Fare           0\n",
              "Embarked       0\n",
              "dtype: int64"
            ]
          },
          "execution_count": 19,
          "metadata": {},
          "output_type": "execute_result"
        }
      ],
      "source": [
        "data.isnull().sum()"
      ]
    },
    {
      "cell_type": "code",
      "execution_count": 20,
      "metadata": {
        "colab": {
          "base_uri": "https://localhost:8080/",
          "height": 607
        },
        "id": "f_gbqgdplYe9",
        "outputId": "87cd6a12-85bc-4d91-e1f2-e131ea20e62f"
      },
      "outputs": [
        {
          "data": {
            "image/png": "[encoded data removed]",
            "text/plain": [
              "<Figure size 600x600 with 1 Axes>"
            ]
          },
          "metadata": {},
          "output_type": "display_data"
        }
      ],
      "source": [
        "fig, ax = plt.subplots(figsize=(6, 6))\n",
        "sns.countplot(x='Survived', data=data, ax=ax,color='tomato')\n",
        "ax.set_title(\"Distribution of Survival on the Titanic\", fontsize=20)\n",
        "ax.set_xlabel(\"Survival (0 = No, 1 = Yes)\")\n",
        "ax.set_ylabel(\"Number of Passengers\")\n",
        "\n",
        "plt.tight_layout()\n",
        "plt.show()\n"
      ]
    },
    {
      "cell_type": "code",
      "execution_count": 21,
      "metadata": {
        "colab": {
          "base_uri": "https://localhost:8080/"
        },
        "id": "mAfmP3JrtBzM",
        "outputId": "1bbaa759-d57e-4e64-ab54-56dc26b62a0a"
      },
      "outputs": [
        {
          "data": {
            "text/plain": [
              "Survived\n",
              "0    549\n",
              "1    342\n",
              "Name: count, dtype: int64"
            ]
          },
          "execution_count": 21,
          "metadata": {},
          "output_type": "execute_result"
        }
      ],
      "source": [
        "data['Survived'].value_counts()"
      ]
    },
    {
      "cell_type": "code",
      "execution_count": 22,
      "metadata": {
        "colab": {
          "base_uri": "https://localhost:8080/",
          "height": 607
        },
        "id": "5x9CxdKmuT0K",
        "outputId": "94657e78-fd69-4dfe-f3d6-092680ef4695"
      },
      "outputs": [
        {
          "data": {
            "image/png": "[encoded data removed]",
            "text/plain": [
              "<Figure size 600x600 with 1 Axes>"
            ]
          },
          "metadata": {},
          "output_type": "display_data"
        }
      ],
      "source": [
        "fig, ax = plt.subplots(figsize=(6, 6))\n",
        "sns.countplot(x='Sex', data=data, ax=ax,color='darkblue')\n",
        "ax.set_title(\"Distribution of Sex on the Titanic\", fontsize=20)\n",
        "ax.set_xlabel(\"Sex\")\n",
        "ax.set_ylabel(\"Count\")\n",
        "plt.tight_layout()\n",
        "plt.show()\n"
      ]
    },
    {
      "cell_type": "code",
      "execution_count": 23,
      "metadata": {
        "colab": {
          "base_uri": "https://localhost:8080/"
        },
        "id": "R7JcYwzRva4m",
        "outputId": "4adbf36b-eda5-4b40-c842-9d48bdb395b6"
      },
      "outputs": [
        {
          "data": {
            "text/plain": [
              "Sex\n",
              "male      577\n",
              "female    314\n",
              "Name: count, dtype: int64"
            ]
          },
          "execution_count": 23,
          "metadata": {},
          "output_type": "execute_result"
        }
      ],
      "source": [
        "data['Sex'].value_counts()"
      ]
    },
    {
      "cell_type": "code",
      "execution_count": 24,
      "metadata": {
        "colab": {
          "base_uri": "https://localhost:8080/",
          "height": 721
        },
        "id": "VqhYC-1KvqRs",
        "outputId": "bdc410c8-c099-40f1-efef-958be81bc1ec"
      },
      "outputs": [
        {
          "name": "stderr",
          "output_type": "stream",
          "text": [
            "C:\\Users\\Sherwyn\\AppData\\Local\\Temp\\ipykernel_8864\\1791694800.py:2: FutureWarning: \n",
            "\n",
            "Setting a gradient palette using color= is deprecated and will be removed in v0.14.0. Set `palette='dark:darkgreen'` for the same effect.\n",
            "\n",
            "  sns.countplot(x='Sex', hue='Survived', data=data, ax=ax,color='darkgreen')\n"
          ]
        },
        {
          "data": {
            "image/png": "[encoded data removed]",
            "text/plain": [
              "<Figure size 600x600 with 1 Axes>"
            ]
          },
          "metadata": {},
          "output_type": "display_data"
        }
      ],
      "source": [
        "fig, ax = plt.subplots(figsize=(6, 6))\n",
        "sns.countplot(x='Sex', hue='Survived', data=data, ax=ax,color='darkgreen')\n",
        "ax.set_title(\"Survival (Gender Wise)\", fontsize=20)\n",
        "ax.set_xlabel(\"Gender\")\n",
        "ax.set_ylabel(\"Count\")\n",
        "ax.legend([\"No\", \"Yes\"])\n",
        "plt.tight_layout()\n",
        "plt.show()\n"
      ]
    },
    {
      "cell_type": "code",
      "execution_count": 25,
      "metadata": {
        "id": "-355WwvYxjMA"
      },
      "outputs": [
        {
          "name": "stderr",
          "output_type": "stream",
          "text": [
            "C:\\Users\\Sherwyn\\AppData\\Local\\Temp\\ipykernel_8864\\3718697437.py:1: FutureWarning: Downcasting behavior in `replace` is deprecated and will be removed in a future version. To retain the old behavior, explicitly call `result.infer_objects(copy=False)`. To opt-in to the future behavior, set `pd.set_option('future.no_silent_downcasting', True)`\n",
            "  data.replace({\"Embarked\":{\"S\":0,\"C\":1,\"Q\":2},\"Sex\":{\"male\":0,\"female\":1}},inplace=True)\n"
          ]
        }
      ],
      "source": [
        "data.replace({\"Embarked\":{\"S\":0,\"C\":1,\"Q\":2},\"Sex\":{\"male\":0,\"female\":1}},inplace=True)"
      ]
    },
    {
      "cell_type": "code",
      "execution_count": 26,
      "metadata": {
        "colab": {
          "base_uri": "https://localhost:8080/",
          "height": 258
        },
        "id": "qQwD0O8oxjQC",
        "outputId": "1e13fe18-05f0-455f-d42f-5d5cebb2231f"
      },
      "outputs": [
        {
          "data": {
            "text/html": [
              "<div>\n",
              "<style scoped>\n",
              "    .dataframe tbody tr th:only-of-type {\n",
              "        vertical-align: middle;\n",
              "    }\n",
              "\n",
              "    .dataframe tbody tr th {\n",
              "        vertical-align: top;\n",
              "    }\n",
              "\n",
              "    .dataframe thead th {\n",
              "        text-align: right;\n",
              "    }\n",
              "</style>\n",
              "<table border=\"1\" class=\"dataframe\">\n",
              "  <thead>\n",
              "    <tr style=\"text-align: right;\">\n",
              "      <th></th>\n",
              "      <th>PassengerId</th>\n",
              "      <th>Survived</th>\n",
              "      <th>Pclass</th>\n",
              "      <th>Name</th>\n",
              "      <th>Sex</th>\n",
              "      <th>Age</th>\n",
              "      <th>SibSp</th>\n",
              "      <th>Parch</th>\n",
              "      <th>Ticket</th>\n",
              "      <th>Fare</th>\n",
              "      <th>Embarked</th>\n",
              "    </tr>\n",
              "  </thead>\n",
              "  <tbody>\n",
              "    <tr>\n",
              "      <th>0</th>\n",
              "      <td>1</td>\n",
              "      <td>0</td>\n",
              "      <td>3</td>\n",
              "      <td>Braund, Mr. Owen Harris</td>\n",
              "      <td>0</td>\n",
              "      <td>22.0</td>\n",
              "      <td>1</td>\n",
              "      <td>0</td>\n",
              "      <td>A/5 21171</td>\n",
              "      <td>7.2500</td>\n",
              "      <td>0</td>\n",
              "    </tr>\n",
              "    <tr>\n",
              "      <th>1</th>\n",
              "      <td>2</td>\n",
              "      <td>1</td>\n",
              "      <td>1</td>\n",
              "      <td>Cumings, Mrs. John Bradley (Florence Briggs Th...</td>\n",
              "      <td>1</td>\n",
              "      <td>38.0</td>\n",
              "      <td>1</td>\n",
              "      <td>0</td>\n",
              "      <td>PC 17599</td>\n",
              "      <td>71.2833</td>\n",
              "      <td>1</td>\n",
              "    </tr>\n",
              "    <tr>\n",
              "      <th>2</th>\n",
              "      <td>3</td>\n",
              "      <td>1</td>\n",
              "      <td>3</td>\n",
              "      <td>Heikkinen, Miss. Laina</td>\n",
              "      <td>1</td>\n",
              "      <td>26.0</td>\n",
              "      <td>0</td>\n",
              "      <td>0</td>\n",
              "      <td>STON/O2. 3101282</td>\n",
              "      <td>7.9250</td>\n",
              "      <td>0</td>\n",
              "    </tr>\n",
              "    <tr>\n",
              "      <th>3</th>\n",
              "      <td>4</td>\n",
              "      <td>1</td>\n",
              "      <td>1</td>\n",
              "      <td>Futrelle, Mrs. Jacques Heath (Lily May Peel)</td>\n",
              "      <td>1</td>\n",
              "      <td>35.0</td>\n",
              "      <td>1</td>\n",
              "      <td>0</td>\n",
              "      <td>113803</td>\n",
              "      <td>53.1000</td>\n",
              "      <td>0</td>\n",
              "    </tr>\n",
              "    <tr>\n",
              "      <th>4</th>\n",
              "      <td>5</td>\n",
              "      <td>0</td>\n",
              "      <td>3</td>\n",
              "      <td>Allen, Mr. William Henry</td>\n",
              "      <td>0</td>\n",
              "      <td>35.0</td>\n",
              "      <td>0</td>\n",
              "      <td>0</td>\n",
              "      <td>373450</td>\n",
              "      <td>8.0500</td>\n",
              "      <td>0</td>\n",
              "    </tr>\n",
              "  </tbody>\n",
              "</table>\n",
              "</div>"
            ],
            "text/plain": [
              "   PassengerId  Survived  Pclass  \\\n",
              "0            1         0       3   \n",
              "1            2         1       1   \n",
              "2            3         1       3   \n",
              "3            4         1       1   \n",
              "4            5         0       3   \n",
              "\n",
              "                                                Name  Sex   Age  SibSp  Parch  \\\n",
              "0                            Braund, Mr. Owen Harris    0  22.0      1      0   \n",
              "1  Cumings, Mrs. John Bradley (Florence Briggs Th...    1  38.0      1      0   \n",
              "2                             Heikkinen, Miss. Laina    1  26.0      0      0   \n",
              "3       Futrelle, Mrs. Jacques Heath (Lily May Peel)    1  35.0      1      0   \n",
              "4                           Allen, Mr. William Henry    0  35.0      0      0   \n",
              "\n",
              "             Ticket     Fare  Embarked  \n",
              "0         A/5 21171   7.2500         0  \n",
              "1          PC 17599  71.2833         1  \n",
              "2  STON/O2. 3101282   7.9250         0  \n",
              "3            113803  53.1000         0  \n",
              "4            373450   8.0500         0  "
            ]
          },
          "execution_count": 26,
          "metadata": {},
          "output_type": "execute_result"
        }
      ],
      "source": [
        "data.head()"
      ]
    },
    {
      "cell_type": "markdown",
      "metadata": {
        "id": "2xNwoqyBzY6z"
      },
      "source": []
    },
    {
      "cell_type": "code",
      "execution_count": 27,
      "metadata": {
        "id": "PjVt_aKaxjTj"
      },
      "outputs": [],
      "source": [
        "data.drop(columns={\"Name\",\"Ticket\"}, inplace=True)"
      ]
    },
    {
      "cell_type": "code",
      "execution_count": 28,
      "metadata": {
        "colab": {
          "base_uri": "https://localhost:8080/",
          "height": 811
        },
        "id": "6e3gNkthzroS",
        "outputId": "63e6b0d2-3344-4a40-ed39-5d833302fd7c"
      },
      "outputs": [
        {
          "data": {
            "text/plain": [
              "<Axes: >"
            ]
          },
          "execution_count": 28,
          "metadata": {},
          "output_type": "execute_result"
        },
        {
          "data": {
            "image/png": "[encoded data removed]",
            "text/plain": [
              "<Figure size 1400x1000 with 2 Axes>"
            ]
          },
          "metadata": {},
          "output_type": "display_data"
        }
      ],
      "source": [
        "plt.figure(figsize=(14,10))\n",
        "sns.heatmap(data.corr(), annot=True)"
      ]
    },
    {
      "cell_type": "markdown",
      "metadata": {
        "id": "wTZ2PboE1Ome"
      },
      "source": [
        "<h1><b><u>MODEL BUILDING</u></b></h1>"
      ]
    },
    {
      "cell_type": "code",
      "execution_count": 29,
      "metadata": {
        "id": "zGwf1o_OxjWw"
      },
      "outputs": [],
      "source": [
        "X = data.drop(columns=['Survived', 'PassengerId'])\n",
        "y = data.loc[:, 'Survived']"
      ]
    },
    {
      "cell_type": "code",
      "execution_count": 30,
      "metadata": {
        "colab": {
          "base_uri": "https://localhost:8080/",
          "height": 424
        },
        "id": "ovLayUfi1xHv",
        "outputId": "45564475-c454-4e7b-d63c-df8b4ed5ccf1"
      },
      "outputs": [
        {
          "data": {
            "text/html": [
              "<div>\n",
              "<style scoped>\n",
              "    .dataframe tbody tr th:only-of-type {\n",
              "        vertical-align: middle;\n",
              "    }\n",
              "\n",
              "    .dataframe tbody tr th {\n",
              "        vertical-align: top;\n",
              "    }\n",
              "\n",
              "    .dataframe thead th {\n",
              "        text-align: right;\n",
              "    }\n",
              "</style>\n",
              "<table border=\"1\" class=\"dataframe\">\n",
              "  <thead>\n",
              "    <tr style=\"text-align: right;\">\n",
              "      <th></th>\n",
              "      <th>Pclass</th>\n",
              "      <th>Sex</th>\n",
              "      <th>Age</th>\n",
              "      <th>SibSp</th>\n",
              "      <th>Parch</th>\n",
              "      <th>Fare</th>\n",
              "      <th>Embarked</th>\n",
              "    </tr>\n",
              "  </thead>\n",
              "  <tbody>\n",
              "    <tr>\n",
              "      <th>0</th>\n",
              "      <td>3</td>\n",
              "      <td>0</td>\n",
              "      <td>22.0</td>\n",
              "      <td>1</td>\n",
              "      <td>0</td>\n",
              "      <td>7.2500</td>\n",
              "      <td>0</td>\n",
              "    </tr>\n",
              "    <tr>\n",
              "      <th>1</th>\n",
              "      <td>1</td>\n",
              "      <td>1</td>\n",
              "      <td>38.0</td>\n",
              "      <td>1</td>\n",
              "      <td>0</td>\n",
              "      <td>71.2833</td>\n",
              "      <td>1</td>\n",
              "    </tr>\n",
              "    <tr>\n",
              "      <th>2</th>\n",
              "      <td>3</td>\n",
              "      <td>1</td>\n",
              "      <td>26.0</td>\n",
              "      <td>0</td>\n",
              "      <td>0</td>\n",
              "      <td>7.9250</td>\n",
              "      <td>0</td>\n",
              "    </tr>\n",
              "    <tr>\n",
              "      <th>3</th>\n",
              "      <td>1</td>\n",
              "      <td>1</td>\n",
              "      <td>35.0</td>\n",
              "      <td>1</td>\n",
              "      <td>0</td>\n",
              "      <td>53.1000</td>\n",
              "      <td>0</td>\n",
              "    </tr>\n",
              "    <tr>\n",
              "      <th>4</th>\n",
              "      <td>3</td>\n",
              "      <td>0</td>\n",
              "      <td>35.0</td>\n",
              "      <td>0</td>\n",
              "      <td>0</td>\n",
              "      <td>8.0500</td>\n",
              "      <td>0</td>\n",
              "    </tr>\n",
              "    <tr>\n",
              "      <th>...</th>\n",
              "      <td>...</td>\n",
              "      <td>...</td>\n",
              "      <td>...</td>\n",
              "      <td>...</td>\n",
              "      <td>...</td>\n",
              "      <td>...</td>\n",
              "      <td>...</td>\n",
              "    </tr>\n",
              "    <tr>\n",
              "      <th>886</th>\n",
              "      <td>2</td>\n",
              "      <td>0</td>\n",
              "      <td>27.0</td>\n",
              "      <td>0</td>\n",
              "      <td>0</td>\n",
              "      <td>13.0000</td>\n",
              "      <td>0</td>\n",
              "    </tr>\n",
              "    <tr>\n",
              "      <th>887</th>\n",
              "      <td>1</td>\n",
              "      <td>1</td>\n",
              "      <td>19.0</td>\n",
              "      <td>0</td>\n",
              "      <td>0</td>\n",
              "      <td>30.0000</td>\n",
              "      <td>0</td>\n",
              "    </tr>\n",
              "    <tr>\n",
              "      <th>888</th>\n",
              "      <td>3</td>\n",
              "      <td>1</td>\n",
              "      <td>28.0</td>\n",
              "      <td>1</td>\n",
              "      <td>2</td>\n",
              "      <td>23.4500</td>\n",
              "      <td>0</td>\n",
              "    </tr>\n",
              "    <tr>\n",
              "      <th>889</th>\n",
              "      <td>1</td>\n",
              "      <td>0</td>\n",
              "      <td>26.0</td>\n",
              "      <td>0</td>\n",
              "      <td>0</td>\n",
              "      <td>30.0000</td>\n",
              "      <td>1</td>\n",
              "    </tr>\n",
              "    <tr>\n",
              "      <th>890</th>\n",
              "      <td>3</td>\n",
              "      <td>0</td>\n",
              "      <td>32.0</td>\n",
              "      <td>0</td>\n",
              "      <td>0</td>\n",
              "      <td>7.7500</td>\n",
              "      <td>2</td>\n",
              "    </tr>\n",
              "  </tbody>\n",
              "</table>\n",
              "<p>891 rows × 7 columns</p>\n",
              "</div>"
            ],
            "text/plain": [
              "     Pclass  Sex   Age  SibSp  Parch     Fare  Embarked\n",
              "0         3    0  22.0      1      0   7.2500         0\n",
              "1         1    1  38.0      1      0  71.2833         1\n",
              "2         3    1  26.0      0      0   7.9250         0\n",
              "3         1    1  35.0      1      0  53.1000         0\n",
              "4         3    0  35.0      0      0   8.0500         0\n",
              "..      ...  ...   ...    ...    ...      ...       ...\n",
              "886       2    0  27.0      0      0  13.0000         0\n",
              "887       1    1  19.0      0      0  30.0000         0\n",
              "888       3    1  28.0      1      2  23.4500         0\n",
              "889       1    0  26.0      0      0  30.0000         1\n",
              "890       3    0  32.0      0      0   7.7500         2\n",
              "\n",
              "[891 rows x 7 columns]"
            ]
          },
          "execution_count": 30,
          "metadata": {},
          "output_type": "execute_result"
        }
      ],
      "source": [
        "X"
      ]
    },
    {
      "cell_type": "code",
      "execution_count": 31,
      "metadata": {
        "colab": {
          "base_uri": "https://localhost:8080/"
        },
        "id": "UE5RFhOf2CXb",
        "outputId": "87e128f7-3df7-49a6-a513-a90cf2a59b8e"
      },
      "outputs": [
        {
          "data": {
            "text/plain": [
              "0      0\n",
              "1      1\n",
              "2      1\n",
              "3      1\n",
              "4      0\n",
              "      ..\n",
              "886    0\n",
              "887    1\n",
              "888    0\n",
              "889    1\n",
              "890    0\n",
              "Name: Survived, Length: 891, dtype: int64"
            ]
          },
          "execution_count": 31,
          "metadata": {},
          "output_type": "execute_result"
        }
      ],
      "source": [
        "y"
      ]
    },
    {
      "cell_type": "code",
      "execution_count": 32,
      "metadata": {
        "id": "FJVk7Gy3xjbA"
      },
      "outputs": [],
      "source": [
        "from sklearn.model_selection import train_test_split\n",
        "X_train, X_test, y_train, y_test = train_test_split(X, y, test_size=0.2, random_state=0)"
      ]
    },
    {
      "cell_type": "code",
      "execution_count": 33,
      "metadata": {
        "colab": {
          "base_uri": "https://localhost:8080/"
        },
        "id": "xLaQGj_W2I4a",
        "outputId": "4231889a-b6b5-4976-beb2-33ad0f779959"
      },
      "outputs": [
        {
          "name": "stdout",
          "output_type": "stream",
          "text": [
            "Accuracy Score: 0.8212290502793296\n"
          ]
        }
      ],
      "source": [
        "from sklearn.linear_model import LogisticRegression\n",
        "from sklearn.metrics import accuracy_score\n",
        "from sklearn.metrics import confusion_matrix\n",
        "from sklearn.metrics import r2_score\n",
        "\n",
        "logistic_reg_model = LogisticRegression(max_iter=156)\n",
        "logistic_reg_model.fit(X_train, y_train)\n",
        "\n",
        "logistic_results=logistic_reg_model.predict(X_test)\n",
        "print(\"Accuracy Score:\", accuracy_score(y_test, logistic_results))"
      ]
    },
    {
      "cell_type": "code",
      "execution_count": 34,
      "metadata": {
        "colab": {
          "base_uri": "https://localhost:8080/"
        },
        "id": "HprcqJ9T3pLR",
        "outputId": "e1bc7224-729b-4424-c4b0-40fb8bf07694"
      },
      "outputs": [
        {
          "name": "stdout",
          "output_type": "stream",
          "text": [
            "Accuracy Score: 0.8379888268156425\n"
          ]
        }
      ],
      "source": [
        "from sklearn.ensemble import RandomForestClassifier\n",
        "\n",
        "random_forest_model = RandomForestClassifier(n_estimators=100, random_state=0)\n",
        "random_forest_model.fit(X_train, y_train)\n",
        "\n",
        "random_forest_results=random_forest_model.predict(X_test)\n",
        "print(\"Accuracy Score:\", accuracy_score(y_test, random_forest_results))"
      ]
    },
    {
      "cell_type": "code",
      "execution_count": 35,
      "metadata": {
        "colab": {
          "base_uri": "https://localhost:8080/"
        },
        "id": "7TgQMuxF4kvv",
        "outputId": "8f59dc05-5535-49d0-ef1a-2bc7d9345561"
      },
      "outputs": [
        {
          "name": "stdout",
          "output_type": "stream",
          "text": [
            "Accuracy Score: 0.8603351955307262\n"
          ]
        }
      ],
      "source": [
        "import xgboost as xgb\n",
        "from sklearn.metrics import accuracy_score\n",
        "\n",
        "\n",
        "xgb_model = xgb.XGBClassifier()\n",
        "xgb_model.fit(X_train, y_train)\n",
        "\n",
        "# Predict on the test set\n",
        "xgb_results = xgb_model.predict(X_test)\n",
        "\n",
        "# Evaluate the accuracy of the model\n",
        "print(\"Accuracy Score:\", accuracy_score(y_test, xgb_results))"
      ]
    },
    {
      "cell_type": "code",
      "execution_count": 36,
      "metadata": {
        "colab": {
          "base_uri": "https://localhost:8080/",
          "height": 206
        },
        "id": "J7wcWj_SEqfR",
        "outputId": "373095d4-5917-420c-bf58-e346bfc0e85a"
      },
      "outputs": [
        {
          "data": {
            "text/html": [
              "<div>\n",
              "<style scoped>\n",
              "    .dataframe tbody tr th:only-of-type {\n",
              "        vertical-align: middle;\n",
              "    }\n",
              "\n",
              "    .dataframe tbody tr th {\n",
              "        vertical-align: top;\n",
              "    }\n",
              "\n",
              "    .dataframe thead th {\n",
              "        text-align: right;\n",
              "    }\n",
              "</style>\n",
              "<table border=\"1\" class=\"dataframe\">\n",
              "  <thead>\n",
              "    <tr style=\"text-align: right;\">\n",
              "      <th></th>\n",
              "      <th>PassengerId</th>\n",
              "      <th>Pclass</th>\n",
              "      <th>Name</th>\n",
              "      <th>Sex</th>\n",
              "      <th>Age</th>\n",
              "      <th>SibSp</th>\n",
              "      <th>Parch</th>\n",
              "      <th>Ticket</th>\n",
              "      <th>Fare</th>\n",
              "      <th>Cabin</th>\n",
              "      <th>Embarked</th>\n",
              "    </tr>\n",
              "  </thead>\n",
              "  <tbody>\n",
              "    <tr>\n",
              "      <th>0</th>\n",
              "      <td>892</td>\n",
              "      <td>3</td>\n",
              "      <td>Kelly, Mr. James</td>\n",
              "      <td>male</td>\n",
              "      <td>34.5</td>\n",
              "      <td>0</td>\n",
              "      <td>0</td>\n",
              "      <td>330911</td>\n",
              "      <td>7.8292</td>\n",
              "      <td>NaN</td>\n",
              "      <td>Q</td>\n",
              "    </tr>\n",
              "    <tr>\n",
              "      <th>1</th>\n",
              "      <td>893</td>\n",
              "      <td>3</td>\n",
              "      <td>Wilkes, Mrs. James (Ellen Needs)</td>\n",
              "      <td>female</td>\n",
              "      <td>47.0</td>\n",
              "      <td>1</td>\n",
              "      <td>0</td>\n",
              "      <td>363272</td>\n",
              "      <td>7.0000</td>\n",
              "      <td>NaN</td>\n",
              "      <td>S</td>\n",
              "    </tr>\n",
              "    <tr>\n",
              "      <th>2</th>\n",
              "      <td>894</td>\n",
              "      <td>2</td>\n",
              "      <td>Myles, Mr. Thomas Francis</td>\n",
              "      <td>male</td>\n",
              "      <td>62.0</td>\n",
              "      <td>0</td>\n",
              "      <td>0</td>\n",
              "      <td>240276</td>\n",
              "      <td>9.6875</td>\n",
              "      <td>NaN</td>\n",
              "      <td>Q</td>\n",
              "    </tr>\n",
              "    <tr>\n",
              "      <th>3</th>\n",
              "      <td>895</td>\n",
              "      <td>3</td>\n",
              "      <td>Wirz, Mr. Albert</td>\n",
              "      <td>male</td>\n",
              "      <td>27.0</td>\n",
              "      <td>0</td>\n",
              "      <td>0</td>\n",
              "      <td>315154</td>\n",
              "      <td>8.6625</td>\n",
              "      <td>NaN</td>\n",
              "      <td>S</td>\n",
              "    </tr>\n",
              "    <tr>\n",
              "      <th>4</th>\n",
              "      <td>896</td>\n",
              "      <td>3</td>\n",
              "      <td>Hirvonen, Mrs. Alexander (Helga E Lindqvist)</td>\n",
              "      <td>female</td>\n",
              "      <td>22.0</td>\n",
              "      <td>1</td>\n",
              "      <td>1</td>\n",
              "      <td>3101298</td>\n",
              "      <td>12.2875</td>\n",
              "      <td>NaN</td>\n",
              "      <td>S</td>\n",
              "    </tr>\n",
              "  </tbody>\n",
              "</table>\n",
              "</div>"
            ],
            "text/plain": [
              "   PassengerId  Pclass                                          Name     Sex  \\\n",
              "0          892       3                              Kelly, Mr. James    male   \n",
              "1          893       3              Wilkes, Mrs. James (Ellen Needs)  female   \n",
              "2          894       2                     Myles, Mr. Thomas Francis    male   \n",
              "3          895       3                              Wirz, Mr. Albert    male   \n",
              "4          896       3  Hirvonen, Mrs. Alexander (Helga E Lindqvist)  female   \n",
              "\n",
              "    Age  SibSp  Parch   Ticket     Fare Cabin Embarked  \n",
              "0  34.5      0      0   330911   7.8292   NaN        Q  \n",
              "1  47.0      1      0   363272   7.0000   NaN        S  \n",
              "2  62.0      0      0   240276   9.6875   NaN        Q  \n",
              "3  27.0      0      0   315154   8.6625   NaN        S  \n",
              "4  22.0      1      1  3101298  12.2875   NaN        S  "
            ]
          },
          "execution_count": 36,
          "metadata": {},
          "output_type": "execute_result"
        }
      ],
      "source": [
        "test_df=pd.read_csv(\"test.csv\")\n",
        "test_df.head()"
      ]
    },
    {
      "cell_type": "code",
      "execution_count": 37,
      "metadata": {
        "colab": {
          "base_uri": "https://localhost:8080/"
        },
        "id": "X08ZJcr2E07R",
        "outputId": "f29a3bc5-f1ae-407b-980a-80977cfc302f"
      },
      "outputs": [
        {
          "data": {
            "text/plain": [
              "PassengerId      0\n",
              "Pclass           0\n",
              "Name             0\n",
              "Sex              0\n",
              "Age             86\n",
              "SibSp            0\n",
              "Parch            0\n",
              "Ticket           0\n",
              "Fare             1\n",
              "Cabin          327\n",
              "Embarked         0\n",
              "dtype: int64"
            ]
          },
          "execution_count": 37,
          "metadata": {},
          "output_type": "execute_result"
        }
      ],
      "source": [
        "test_df.isnull().sum()"
      ]
    },
    {
      "cell_type": "code",
      "execution_count": 38,
      "metadata": {
        "colab": {
          "base_uri": "https://localhost:8080/",
          "height": 300
        },
        "id": "84vUpnyQFDcX",
        "outputId": "e41979d6-c15a-4fef-df30-80c95d1291d5"
      },
      "outputs": [
        {
          "data": {
            "text/html": [
              "<div>\n",
              "<style scoped>\n",
              "    .dataframe tbody tr th:only-of-type {\n",
              "        vertical-align: middle;\n",
              "    }\n",
              "\n",
              "    .dataframe tbody tr th {\n",
              "        vertical-align: top;\n",
              "    }\n",
              "\n",
              "    .dataframe thead th {\n",
              "        text-align: right;\n",
              "    }\n",
              "</style>\n",
              "<table border=\"1\" class=\"dataframe\">\n",
              "  <thead>\n",
              "    <tr style=\"text-align: right;\">\n",
              "      <th></th>\n",
              "      <th>PassengerId</th>\n",
              "      <th>Pclass</th>\n",
              "      <th>Age</th>\n",
              "      <th>SibSp</th>\n",
              "      <th>Parch</th>\n",
              "      <th>Fare</th>\n",
              "    </tr>\n",
              "  </thead>\n",
              "  <tbody>\n",
              "    <tr>\n",
              "      <th>count</th>\n",
              "      <td>418.000000</td>\n",
              "      <td>418.000000</td>\n",
              "      <td>332.000000</td>\n",
              "      <td>418.000000</td>\n",
              "      <td>418.000000</td>\n",
              "      <td>417.000000</td>\n",
              "    </tr>\n",
              "    <tr>\n",
              "      <th>mean</th>\n",
              "      <td>1100.500000</td>\n",
              "      <td>2.265550</td>\n",
              "      <td>30.272590</td>\n",
              "      <td>0.447368</td>\n",
              "      <td>0.392344</td>\n",
              "      <td>35.627188</td>\n",
              "    </tr>\n",
              "    <tr>\n",
              "      <th>std</th>\n",
              "      <td>120.810458</td>\n",
              "      <td>0.841838</td>\n",
              "      <td>14.181209</td>\n",
              "      <td>0.896760</td>\n",
              "      <td>0.981429</td>\n",
              "      <td>55.907576</td>\n",
              "    </tr>\n",
              "    <tr>\n",
              "      <th>min</th>\n",
              "      <td>892.000000</td>\n",
              "      <td>1.000000</td>\n",
              "      <td>0.170000</td>\n",
              "      <td>0.000000</td>\n",
              "      <td>0.000000</td>\n",
              "      <td>0.000000</td>\n",
              "    </tr>\n",
              "    <tr>\n",
              "      <th>25%</th>\n",
              "      <td>996.250000</td>\n",
              "      <td>1.000000</td>\n",
              "      <td>21.000000</td>\n",
              "      <td>0.000000</td>\n",
              "      <td>0.000000</td>\n",
              "      <td>7.895800</td>\n",
              "    </tr>\n",
              "    <tr>\n",
              "      <th>50%</th>\n",
              "      <td>1100.500000</td>\n",
              "      <td>3.000000</td>\n",
              "      <td>27.000000</td>\n",
              "      <td>0.000000</td>\n",
              "      <td>0.000000</td>\n",
              "      <td>14.454200</td>\n",
              "    </tr>\n",
              "    <tr>\n",
              "      <th>75%</th>\n",
              "      <td>1204.750000</td>\n",
              "      <td>3.000000</td>\n",
              "      <td>39.000000</td>\n",
              "      <td>1.000000</td>\n",
              "      <td>0.000000</td>\n",
              "      <td>31.500000</td>\n",
              "    </tr>\n",
              "    <tr>\n",
              "      <th>max</th>\n",
              "      <td>1309.000000</td>\n",
              "      <td>3.000000</td>\n",
              "      <td>76.000000</td>\n",
              "      <td>8.000000</td>\n",
              "      <td>9.000000</td>\n",
              "      <td>512.329200</td>\n",
              "    </tr>\n",
              "  </tbody>\n",
              "</table>\n",
              "</div>"
            ],
            "text/plain": [
              "       PassengerId      Pclass         Age       SibSp       Parch        Fare\n",
              "count   418.000000  418.000000  332.000000  418.000000  418.000000  417.000000\n",
              "mean   1100.500000    2.265550   30.272590    0.447368    0.392344   35.627188\n",
              "std     120.810458    0.841838   14.181209    0.896760    0.981429   55.907576\n",
              "min     892.000000    1.000000    0.170000    0.000000    0.000000    0.000000\n",
              "25%     996.250000    1.000000   21.000000    0.000000    0.000000    7.895800\n",
              "50%    1100.500000    3.000000   27.000000    0.000000    0.000000   14.454200\n",
              "75%    1204.750000    3.000000   39.000000    1.000000    0.000000   31.500000\n",
              "max    1309.000000    3.000000   76.000000    8.000000    9.000000  512.329200"
            ]
          },
          "execution_count": 38,
          "metadata": {},
          "output_type": "execute_result"
        }
      ],
      "source": [
        "test_df.describe()"
      ]
    },
    {
      "cell_type": "code",
      "execution_count": 39,
      "metadata": {
        "id": "WkDD8R9nE6zi"
      },
      "outputs": [
        {
          "name": "stderr",
          "output_type": "stream",
          "text": [
            "C:\\Users\\Sherwyn\\AppData\\Local\\Temp\\ipykernel_8864\\4089852231.py:1: FutureWarning: A value is trying to be set on a copy of a DataFrame or Series through chained assignment using an inplace method.\n",
            "The behavior will change in pandas 3.0. This inplace method will never work because the intermediate object on which we are setting values always behaves as a copy.\n",
            "\n",
            "For example, when doing 'df[col].method(value, inplace=True)', try using 'df.method({col: value}, inplace=True)' or df[col] = df[col].method(value) instead, to perform the operation inplace on the original object.\n",
            "\n",
            "\n",
            "  test_df['Age'].fillna(test_df['Age'].median(),inplace=True)\n"
          ]
        }
      ],
      "source": [
        "test_df['Age'].fillna(test_df['Age'].median(),inplace=True)"
      ]
    },
    {
      "cell_type": "code",
      "execution_count": 40,
      "metadata": {
        "id": "nVWY8TUGFWoh"
      },
      "outputs": [],
      "source": [
        "test_df.drop(\"Cabin\",axis='columns',inplace=True)"
      ]
    },
    {
      "cell_type": "code",
      "execution_count": 41,
      "metadata": {
        "colab": {
          "base_uri": "https://localhost:8080/",
          "height": 81
        },
        "id": "4XGracArFvvo",
        "outputId": "814a3406-5073-4053-c415-a87653551284"
      },
      "outputs": [
        {
          "data": {
            "text/html": [
              "<div>\n",
              "<style scoped>\n",
              "    .dataframe tbody tr th:only-of-type {\n",
              "        vertical-align: middle;\n",
              "    }\n",
              "\n",
              "    .dataframe tbody tr th {\n",
              "        vertical-align: top;\n",
              "    }\n",
              "\n",
              "    .dataframe thead th {\n",
              "        text-align: right;\n",
              "    }\n",
              "</style>\n",
              "<table border=\"1\" class=\"dataframe\">\n",
              "  <thead>\n",
              "    <tr style=\"text-align: right;\">\n",
              "      <th></th>\n",
              "      <th>PassengerId</th>\n",
              "      <th>Pclass</th>\n",
              "      <th>Name</th>\n",
              "      <th>Sex</th>\n",
              "      <th>Age</th>\n",
              "      <th>SibSp</th>\n",
              "      <th>Parch</th>\n",
              "      <th>Ticket</th>\n",
              "      <th>Fare</th>\n",
              "      <th>Embarked</th>\n",
              "    </tr>\n",
              "  </thead>\n",
              "  <tbody>\n",
              "    <tr>\n",
              "      <th>152</th>\n",
              "      <td>1044</td>\n",
              "      <td>3</td>\n",
              "      <td>Storey, Mr. Thomas</td>\n",
              "      <td>male</td>\n",
              "      <td>60.5</td>\n",
              "      <td>0</td>\n",
              "      <td>0</td>\n",
              "      <td>3701</td>\n",
              "      <td>NaN</td>\n",
              "      <td>S</td>\n",
              "    </tr>\n",
              "  </tbody>\n",
              "</table>\n",
              "</div>"
            ],
            "text/plain": [
              "     PassengerId  Pclass                Name   Sex   Age  SibSp  Parch Ticket  \\\n",
              "152         1044       3  Storey, Mr. Thomas  male  60.5      0      0   3701   \n",
              "\n",
              "     Fare Embarked  \n",
              "152   NaN        S  "
            ]
          },
          "execution_count": 41,
          "metadata": {},
          "output_type": "execute_result"
        }
      ],
      "source": [
        "test_df[test_df['Fare'].isnull()]"
      ]
    },
    {
      "cell_type": "code",
      "execution_count": 42,
      "metadata": {
        "id": "9QK-Irz2GOo6"
      },
      "outputs": [],
      "source": [
        "test_df.dropna(subset=['Fare'], inplace=True)"
      ]
    },
    {
      "cell_type": "code",
      "execution_count": 43,
      "metadata": {
        "colab": {
          "base_uri": "https://localhost:8080/",
          "height": 53
        },
        "id": "fWcsoGXuGR9L",
        "outputId": "6b174e71-42a8-447a-b7b8-cda67d48f7a1"
      },
      "outputs": [
        {
          "data": {
            "text/html": [
              "<div>\n",
              "<style scoped>\n",
              "    .dataframe tbody tr th:only-of-type {\n",
              "        vertical-align: middle;\n",
              "    }\n",
              "\n",
              "    .dataframe tbody tr th {\n",
              "        vertical-align: top;\n",
              "    }\n",
              "\n",
              "    .dataframe thead th {\n",
              "        text-align: right;\n",
              "    }\n",
              "</style>\n",
              "<table border=\"1\" class=\"dataframe\">\n",
              "  <thead>\n",
              "    <tr style=\"text-align: right;\">\n",
              "      <th></th>\n",
              "      <th>PassengerId</th>\n",
              "      <th>Pclass</th>\n",
              "      <th>Name</th>\n",
              "      <th>Sex</th>\n",
              "      <th>Age</th>\n",
              "      <th>SibSp</th>\n",
              "      <th>Parch</th>\n",
              "      <th>Ticket</th>\n",
              "      <th>Fare</th>\n",
              "      <th>Embarked</th>\n",
              "    </tr>\n",
              "  </thead>\n",
              "  <tbody>\n",
              "  </tbody>\n",
              "</table>\n",
              "</div>"
            ],
            "text/plain": [
              "Empty DataFrame\n",
              "Columns: [PassengerId, Pclass, Name, Sex, Age, SibSp, Parch, Ticket, Fare, Embarked]\n",
              "Index: []"
            ]
          },
          "execution_count": 43,
          "metadata": {},
          "output_type": "execute_result"
        }
      ],
      "source": [
        "test_df[test_df['Fare'].isnull()]"
      ]
    },
    {
      "cell_type": "code",
      "execution_count": 44,
      "metadata": {
        "id": "b4HjZMBjEwyD"
      },
      "outputs": [],
      "source": [
        "New_test_X=test_df.drop(columns={ 'PassengerId',\"Name\", \"Ticket\"})"
      ]
    },
    {
      "cell_type": "code",
      "execution_count": 45,
      "metadata": {
        "id": "cj2oHgCMH0rT"
      },
      "outputs": [
        {
          "name": "stderr",
          "output_type": "stream",
          "text": [
            "C:\\Users\\Sherwyn\\AppData\\Local\\Temp\\ipykernel_8864\\1054600317.py:1: FutureWarning: Downcasting behavior in `replace` is deprecated and will be removed in a future version. To retain the old behavior, explicitly call `result.infer_objects(copy=False)`. To opt-in to the future behavior, set `pd.set_option('future.no_silent_downcasting', True)`\n",
            "  New_test_X.replace({\"Embarked\":{\"S\":0,\"C\":1,\"Q\":2},\"Sex\":{\"male\":0,\"female\":1}},inplace=True)\n"
          ]
        }
      ],
      "source": [
        "New_test_X.replace({\"Embarked\":{\"S\":0,\"C\":1,\"Q\":2},\"Sex\":{\"male\":0,\"female\":1}},inplace=True)"
      ]
    },
    {
      "cell_type": "code",
      "execution_count": 46,
      "metadata": {
        "colab": {
          "base_uri": "https://localhost:8080/"
        },
        "id": "LKnsV0DoflfH",
        "outputId": "2e7e49cb-f28d-47be-b49f-af12b83c7ac7"
      },
      "outputs": [
        {
          "data": {
            "text/plain": [
              "Index(['Pclass', 'Sex', 'Age', 'SibSp', 'Parch', 'Fare', 'Embarked'], dtype='object')"
            ]
          },
          "execution_count": 46,
          "metadata": {},
          "output_type": "execute_result"
        }
      ],
      "source": [
        "X_test.columns"
      ]
    },
    {
      "cell_type": "code",
      "execution_count": 47,
      "metadata": {
        "id": "CiuxG6j7HZ16"
      },
      "outputs": [],
      "source": [
        "xgb_results_test=xgb_model.predict(New_test_X)"
      ]
    },
    {
      "cell_type": "code",
      "execution_count": 48,
      "metadata": {
        "colab": {
          "base_uri": "https://localhost:8080/"
        },
        "id": "mPaofBsFgSnb",
        "outputId": "3230fae1-8614-4bd3-fd11-986441fcd8ea"
      },
      "outputs": [
        {
          "data": {
            "text/plain": [
              "array([[9.86571193e-01, 1.34288035e-02],\n",
              "       [9.90239501e-01, 9.76051949e-03],\n",
              "       [9.98233378e-01, 1.76662533e-03],\n",
              "       [5.07412434e-01, 4.92587537e-01],\n",
              "       [5.23755014e-01, 4.76244986e-01],\n",
              "       [9.52408850e-01, 4.75911684e-02],\n",
              "       [9.87500608e-01, 1.24994135e-02],\n",
              "       [9.16964829e-01, 8.30351487e-02],\n",
              "       [1.70170069e-02, 9.82982993e-01],\n",
              "       [9.99423265e-01, 5.76719234e-04],\n",
              "       [9.02922869e-01, 9.70771238e-02],\n",
              "       [9.41247642e-01, 5.87523319e-02],\n",
              "       [4.47136164e-03, 9.95528638e-01],\n",
              "       [9.94001210e-01, 5.99879446e-03],\n",
              "       [3.36192846e-02, 9.66380715e-01],\n",
              "       [3.86018157e-02, 9.61398184e-01],\n",
              "       [9.93495762e-01, 6.50424836e-03],\n",
              "       [4.23949242e-01, 5.76050758e-01],\n",
              "       [1.93051577e-01, 8.06948423e-01],\n",
              "       [8.84327948e-01, 1.15672030e-01],\n",
              "       [8.75629902e-01, 1.24370083e-01],\n",
              "       [7.47394562e-01, 2.52605408e-01],\n",
              "       [1.74266100e-03, 9.98257339e-01],\n",
              "       [8.77798200e-01, 1.22201830e-01],\n",
              "       [7.99860358e-02, 9.20013964e-01],\n",
              "       [9.56701636e-01, 4.32983339e-02],\n",
              "       [1.58572197e-03, 9.98414278e-01],\n",
              "       [2.87675858e-01, 7.12324142e-01],\n",
              "       [2.82051861e-01, 7.17948139e-01],\n",
              "       [9.35703874e-01, 6.42961338e-02],\n",
              "       [9.39275444e-01, 6.07245527e-02],\n",
              "       [9.62556839e-01, 3.74431461e-02],\n",
              "       [6.88752174e-01, 3.11247855e-01],\n",
              "       [9.72229540e-01, 2.77704746e-02],\n",
              "       [2.22590268e-01, 7.77409732e-01],\n",
              "       [9.27339733e-01, 7.26602748e-02],\n",
              "       [1.51044786e-01, 8.48955214e-01],\n",
              "       [9.16503787e-01, 8.34961832e-02],\n",
              "       [9.75836456e-01, 2.41635684e-02],\n",
              "       [6.25978708e-02, 9.37402129e-01],\n",
              "       [8.11207294e-01, 1.88792691e-01],\n",
              "       [4.19670939e-02, 9.58032906e-01],\n",
              "       [8.17705989e-01, 1.82293996e-01],\n",
              "       [2.39921212e-02, 9.76007879e-01],\n",
              "       [6.61450624e-03, 9.93385494e-01],\n",
              "       [9.53914523e-01, 4.60854545e-02],\n",
              "       [9.26507235e-01, 7.34927580e-02],\n",
              "       [6.38165534e-01, 3.61834466e-01],\n",
              "       [9.84346867e-03, 9.90156531e-01],\n",
              "       [1.83079958e-01, 8.16920042e-01],\n",
              "       [8.61116111e-01, 1.38883874e-01],\n",
              "       [8.59453976e-01, 1.40546009e-01],\n",
              "       [6.39528036e-02, 9.36047196e-01],\n",
              "       [8.95432234e-02, 9.10456777e-01],\n",
              "       [3.80676031e-01, 6.19323969e-01],\n",
              "       [9.98599827e-01, 1.40017946e-03],\n",
              "       [9.92096901e-01, 7.90309533e-03],\n",
              "       [9.52654600e-01, 4.73454148e-02],\n",
              "       [9.70194876e-01, 2.98051070e-02],\n",
              "       [1.01047754e-03, 9.98989522e-01],\n",
              "       [9.61883724e-01, 3.81162874e-02],\n",
              "       [3.84521008e-01, 6.15478992e-01],\n",
              "       [9.90759671e-01, 9.24034324e-03],\n",
              "       [2.03904510e-02, 9.79609549e-01],\n",
              "       [1.65717840e-01, 8.34282160e-01],\n",
              "       [1.37068331e-01, 8.62931669e-01],\n",
              "       [5.09715080e-03, 9.94902849e-01],\n",
              "       [9.95314002e-01, 4.68598399e-03],\n",
              "       [9.78235483e-01, 2.17645206e-02],\n",
              "       [1.26863897e-01, 8.73136103e-01],\n",
              "       [2.24131942e-02, 9.77586806e-01],\n",
              "       [9.90611613e-01, 9.38836765e-03],\n",
              "       [9.04493928e-01, 9.55060646e-02],\n",
              "       [9.47943091e-01, 5.20569049e-02],\n",
              "       [4.37200069e-03, 9.95627999e-01],\n",
              "       [7.39402533e-01, 2.60597467e-01],\n",
              "       [5.72281182e-01, 4.27718818e-01],\n",
              "       [4.65649188e-01, 5.34350812e-01],\n",
              "       [7.91925550e-01, 2.08074450e-01],\n",
              "       [2.24131942e-02, 9.77586806e-01],\n",
              "       [5.78022003e-03, 9.94219780e-01],\n",
              "       [9.23261166e-01, 7.67388642e-02],\n",
              "       [6.32161677e-01, 3.67838323e-01],\n",
              "       [9.02922869e-01, 9.70771238e-02],\n",
              "       [9.11622465e-01, 8.83775204e-02],\n",
              "       [9.03941572e-01, 9.60584432e-02],\n",
              "       [5.08135557e-03, 9.94918644e-01],\n",
              "       [8.51379633e-02, 9.14862037e-01],\n",
              "       [1.01325512e-02, 9.89867449e-01],\n",
              "       [2.97951102e-02, 9.70204890e-01],\n",
              "       [8.07955503e-01, 1.92044467e-01],\n",
              "       [2.94929624e-01, 7.05070376e-01],\n",
              "       [1.16462708e-01, 8.83537292e-01],\n",
              "       [5.72281182e-01, 4.27718818e-01],\n",
              "       [2.97058880e-01, 7.02941120e-01],\n",
              "       [8.25266719e-01, 1.74733251e-01],\n",
              "       [1.39537454e-02, 9.86046255e-01],\n",
              "       [7.13017941e-01, 2.86982089e-01],\n",
              "       [2.04168260e-01, 7.95831740e-01],\n",
              "       [9.56268132e-01, 4.37318496e-02],\n",
              "       [4.71931696e-03, 9.95280683e-01],\n",
              "       [8.93771887e-01, 1.06228113e-01],\n",
              "       [6.38165534e-01, 3.61834466e-01],\n",
              "       [8.66763353e-01, 1.33236662e-01],\n",
              "       [2.57723570e-01, 7.42276430e-01],\n",
              "       [9.79868829e-01, 2.01311670e-02],\n",
              "       [8.75077069e-01, 1.24922946e-01],\n",
              "       [6.38165534e-01, 3.61834466e-01],\n",
              "       [4.79414940e-01, 5.20585060e-01],\n",
              "       [9.54924226e-01, 4.50758040e-02],\n",
              "       [9.03645635e-01, 9.63543504e-02],\n",
              "       [1.48125887e-02, 9.85187411e-01],\n",
              "       [5.36501408e-04, 9.99463499e-01],\n",
              "       [7.51192570e-02, 9.24880743e-01],\n",
              "       [2.91842818e-02, 9.70815718e-01],\n",
              "       [9.38193202e-01, 6.18068241e-02],\n",
              "       [3.48402798e-01, 6.51597202e-01],\n",
              "       [1.31755829e-01, 8.68244171e-01],\n",
              "       [4.55149770e-01, 5.44850230e-01],\n",
              "       [3.57754230e-02, 9.64224577e-01],\n",
              "       [4.66636419e-02, 9.53336358e-01],\n",
              "       [8.40629995e-01, 1.59370005e-01],\n",
              "       [3.08871269e-04, 9.99691129e-01],\n",
              "       [9.88919258e-01, 1.10807260e-02],\n",
              "       [6.38165534e-01, 3.61834466e-01],\n",
              "       [3.13453913e-01, 6.86546087e-01],\n",
              "       [7.68616796e-01, 2.31383219e-01],\n",
              "       [3.24504077e-01, 6.75495923e-01],\n",
              "       [6.51384950e-01, 3.48615080e-01],\n",
              "       [9.89311516e-01, 1.06884670e-02],\n",
              "       [5.33871531e-01, 4.66128469e-01],\n",
              "       [9.83570576e-01, 1.64294410e-02],\n",
              "       [7.23758459e-01, 2.76241541e-01],\n",
              "       [5.89938879e-01, 4.10061091e-01],\n",
              "       [9.58799303e-01, 4.12006788e-02],\n",
              "       [9.74737763e-01, 2.52622478e-02],\n",
              "       [1.27186477e-01, 8.72813523e-01],\n",
              "       [9.22269702e-01, 7.77303204e-02],\n",
              "       [9.04332221e-01, 9.56677571e-02],\n",
              "       [9.95196402e-01, 4.80359141e-03],\n",
              "       [9.92654681e-01, 7.34534347e-03],\n",
              "       [2.90548801e-03, 9.97094512e-01],\n",
              "       [9.43650484e-01, 5.63495271e-02],\n",
              "       [9.56567287e-01, 4.34327014e-02],\n",
              "       [4.13594842e-02, 9.58640516e-01],\n",
              "       [9.88813460e-01, 1.11865252e-02],\n",
              "       [7.34335899e-01, 2.65664130e-01],\n",
              "       [9.78909135e-01, 2.10908558e-02],\n",
              "       [4.19670939e-02, 9.58032906e-01],\n",
              "       [9.68410850e-01, 3.15891653e-02],\n",
              "       [1.20234489e-03, 9.98797655e-01],\n",
              "       [6.72083497e-01, 3.27916533e-01],\n",
              "       [7.97399402e-01, 2.02600598e-01],\n",
              "       [9.49510396e-01, 5.04895896e-02],\n",
              "       [9.71351385e-01, 2.86486037e-02],\n",
              "       [1.09775066e-02, 9.89022493e-01],\n",
              "       [3.55429888e-01, 6.44570112e-01],\n",
              "       [4.13594842e-02, 9.58640516e-01],\n",
              "       [6.18286908e-01, 3.81713092e-01],\n",
              "       [1.47263408e-02, 9.85273659e-01],\n",
              "       [1.36744380e-02, 9.86325562e-01],\n",
              "       [5.50674796e-02, 9.44932520e-01],\n",
              "       [2.55141318e-01, 7.44858682e-01],\n",
              "       [8.37824285e-01, 1.62175715e-01],\n",
              "       [9.59152222e-01, 4.08478081e-02],\n",
              "       [6.54140115e-01, 3.45859855e-01],\n",
              "       [9.79536593e-01, 2.04633884e-02],\n",
              "       [2.47362852e-02, 9.75263715e-01],\n",
              "       [7.76146531e-01, 2.23853469e-01],\n",
              "       [7.23098874e-01, 2.76901126e-01],\n",
              "       [1.13485992e-01, 8.86514008e-01],\n",
              "       [9.92041290e-01, 7.95869250e-03],\n",
              "       [3.00875783e-01, 6.99124217e-01],\n",
              "       [9.46276367e-01, 5.37236072e-02],\n",
              "       [2.25520134e-03, 9.97744799e-01],\n",
              "       [2.14010477e-03, 9.97859895e-01],\n",
              "       [8.86060119e-01, 1.13939911e-01],\n",
              "       [6.41310215e-03, 9.93586898e-01],\n",
              "       [6.23204112e-02, 9.37679589e-01],\n",
              "       [7.91925550e-01, 2.08074450e-01],\n",
              "       [2.01494396e-01, 7.98505604e-01],\n",
              "       [7.99036026e-03, 9.92009640e-01],\n",
              "       [6.38165534e-01, 3.61834466e-01],\n",
              "       [1.60607636e-01, 8.39392364e-01],\n",
              "       [9.67167974e-01, 3.28319967e-02],\n",
              "       [4.99150157e-02, 9.50084984e-01],\n",
              "       [6.04736090e-01, 3.95263880e-01],\n",
              "       [9.88725126e-01, 1.12748565e-02],\n",
              "       [8.37824285e-01, 1.62175715e-01],\n",
              "       [9.41094279e-01, 5.89057468e-02],\n",
              "       [5.48433125e-01, 4.51566875e-01],\n",
              "       [4.90900457e-01, 5.09099543e-01],\n",
              "       [9.98674095e-01, 1.32593384e-03],\n",
              "       [3.44278216e-02, 9.65572178e-01],\n",
              "       [9.21361804e-01, 7.86382183e-02],\n",
              "       [1.34209991e-02, 9.86579001e-01],\n",
              "       [5.89858055e-01, 4.10141915e-01],\n",
              "       [9.92820024e-01, 7.17996107e-03],\n",
              "       [5.73023558e-02, 9.42697644e-01],\n",
              "       [1.03569567e-01, 8.96430433e-01],\n",
              "       [2.06387639e-02, 9.79361236e-01],\n",
              "       [7.40667343e-01, 2.59332627e-01],\n",
              "       [1.76692009e-02, 9.82330799e-01],\n",
              "       [9.85700011e-01, 1.42999897e-02],\n",
              "       [5.25921822e-01, 4.74078208e-01],\n",
              "       [8.95135820e-01, 1.04864173e-01],\n",
              "       [9.93370533e-01, 6.62946515e-03],\n",
              "       [1.71329379e-02, 9.82867062e-01],\n",
              "       [9.95201528e-01, 4.79844958e-03],\n",
              "       [6.56483471e-01, 3.43516529e-01],\n",
              "       [4.00645196e-01, 5.99354804e-01],\n",
              "       [9.91333127e-01, 8.66689812e-03],\n",
              "       [5.47402859e-01, 4.52597171e-01],\n",
              "       [9.95523393e-01, 4.47660079e-03],\n",
              "       [9.35326576e-01, 6.46734312e-02],\n",
              "       [5.08135557e-03, 9.94918644e-01],\n",
              "       [9.72876966e-01, 2.71230415e-02],\n",
              "       [9.41778421e-02, 9.05822158e-01],\n",
              "       [5.72281182e-01, 4.27718818e-01],\n",
              "       [9.35658216e-02, 9.06434178e-01],\n",
              "       [9.66257632e-01, 3.37423682e-02],\n",
              "       [2.18995333e-01, 7.81004667e-01],\n",
              "       [6.72076941e-01, 3.27923059e-01],\n",
              "       [2.75845826e-01, 7.24154174e-01],\n",
              "       [8.38239193e-01, 1.61760837e-01],\n",
              "       [8.59414458e-01, 1.40585512e-01],\n",
              "       [1.01325512e-02, 9.89867449e-01],\n",
              "       [9.66835916e-01, 3.31640728e-02],\n",
              "       [9.04094636e-01, 9.59053785e-02],\n",
              "       [9.87515092e-01, 1.24849072e-02],\n",
              "       [1.17744207e-02, 9.88225579e-01],\n",
              "       [8.32673192e-01, 1.67326808e-01],\n",
              "       [8.52637887e-01, 1.47362083e-01],\n",
              "       [3.85505676e-01, 6.14494324e-01],\n",
              "       [9.44956899e-01, 5.50431125e-02],\n",
              "       [9.43375647e-01, 5.66243604e-02],\n",
              "       [7.50881195e-01, 2.49118820e-01],\n",
              "       [2.49496102e-02, 9.75050390e-01],\n",
              "       [3.00490856e-03, 9.96995091e-01],\n",
              "       [4.90131617e-01, 5.09868383e-01],\n",
              "       [4.01504636e-02, 9.59849536e-01],\n",
              "       [7.25680947e-01, 2.74319023e-01],\n",
              "       [9.02922869e-01, 9.70771238e-02],\n",
              "       [9.69296932e-01, 3.07030790e-02],\n",
              "       [9.10355866e-01, 8.96441489e-02],\n",
              "       [1.67310596e-01, 8.32689404e-01],\n",
              "       [9.67919946e-01, 3.20800319e-02],\n",
              "       [3.57754230e-02, 9.64224577e-01],\n",
              "       [9.19342339e-01, 8.06576461e-02],\n",
              "       [4.46370840e-02, 9.55362916e-01],\n",
              "       [6.54872000e-01, 3.45128000e-01],\n",
              "       [7.69222498e-01, 2.30777502e-01],\n",
              "       [9.94375110e-01, 5.62489359e-03],\n",
              "       [8.75727594e-01, 1.24272391e-01],\n",
              "       [7.23098874e-01, 2.76901126e-01],\n",
              "       [6.38165534e-01, 3.61834466e-01],\n",
              "       [9.56384957e-01, 4.36150171e-02],\n",
              "       [3.10556293e-02, 9.68944371e-01],\n",
              "       [9.65210915e-01, 3.47890817e-02],\n",
              "       [9.89369869e-01, 1.06301159e-02],\n",
              "       [9.16225433e-01, 8.37745443e-02],\n",
              "       [1.45976543e-02, 9.85402346e-01],\n",
              "       [8.44568014e-02, 9.15543199e-01],\n",
              "       [7.26071835e-01, 2.73928136e-01],\n",
              "       [9.02922869e-01, 9.70771238e-02],\n",
              "       [2.77468741e-01, 7.22531259e-01],\n",
              "       [7.23098874e-01, 2.76901126e-01],\n",
              "       [1.51044786e-01, 8.48955214e-01],\n",
              "       [9.64859009e-01, 3.51409912e-02],\n",
              "       [8.37517381e-01, 1.62482634e-01],\n",
              "       [6.38165534e-01, 3.61834466e-01],\n",
              "       [1.08427167e-01, 8.91572833e-01],\n",
              "       [2.16110706e-01, 7.83889294e-01],\n",
              "       [1.13485992e-01, 8.86514008e-01],\n",
              "       [7.99495578e-02, 9.20050442e-01],\n",
              "       [8.77710938e-01, 1.22289047e-01],\n",
              "       [9.80517924e-01, 1.94820724e-02],\n",
              "       [9.87017632e-01, 1.29823871e-02],\n",
              "       [9.86772120e-01, 1.32278688e-02],\n",
              "       [9.35005605e-01, 6.49943873e-02],\n",
              "       [7.83723593e-03, 9.92162764e-01],\n",
              "       [1.01325512e-02, 9.89867449e-01],\n",
              "       [8.32266152e-01, 1.67733833e-01],\n",
              "       [4.80503976e-01, 5.19496024e-01],\n",
              "       [9.98564184e-01, 1.43580895e-03],\n",
              "       [7.23098874e-01, 2.76901126e-01],\n",
              "       [6.70801282e-01, 3.29198718e-01],\n",
              "       [3.00875783e-01, 6.99124217e-01],\n",
              "       [5.72281182e-01, 4.27718818e-01],\n",
              "       [5.02624393e-01, 4.97375637e-01],\n",
              "       [9.70971584e-01, 2.90284045e-02],\n",
              "       [3.00875783e-01, 6.99124217e-01],\n",
              "       [8.51402640e-01, 1.48597389e-01],\n",
              "       [9.52652931e-01, 4.73470576e-02],\n",
              "       [9.69962060e-01, 3.00379321e-02],\n",
              "       [3.77137661e-02, 9.62286234e-01],\n",
              "       [9.35703874e-01, 6.42961338e-02],\n",
              "       [9.90595222e-01, 9.40480363e-03],\n",
              "       [5.66551685e-01, 4.33448285e-01],\n",
              "       [7.50477195e-01, 2.49522820e-01],\n",
              "       [8.59453976e-01, 1.40546009e-01],\n",
              "       [9.91975367e-01, 8.02460499e-03],\n",
              "       [9.96035159e-01, 3.96483950e-03],\n",
              "       [1.01325512e-02, 9.89867449e-01],\n",
              "       [1.33095026e-01, 8.66904974e-01],\n",
              "       [9.46484327e-01, 5.35156503e-02],\n",
              "       [2.06705332e-02, 9.79329467e-01],\n",
              "       [9.21539009e-01, 7.84610063e-02],\n",
              "       [9.66360807e-01, 3.36391963e-02],\n",
              "       [9.45877194e-01, 5.41228019e-02],\n",
              "       [2.87675858e-01, 7.12324142e-01],\n",
              "       [7.23098874e-01, 2.76901126e-01],\n",
              "       [9.42506850e-01, 5.74931726e-02],\n",
              "       [1.42295361e-02, 9.85770464e-01],\n",
              "       [2.59885788e-02, 9.74011421e-01],\n",
              "       [9.31092143e-01, 6.89078793e-02],\n",
              "       [7.30653167e-01, 2.69346803e-01],\n",
              "       [4.93674874e-01, 5.06325126e-01],\n",
              "       [9.59241569e-01, 4.07584421e-02],\n",
              "       [8.66763353e-01, 1.33236662e-01],\n",
              "       [6.14079118e-01, 3.85920882e-01],\n",
              "       [9.22269702e-01, 7.77303204e-02],\n",
              "       [5.65990806e-02, 9.43400919e-01],\n",
              "       [7.90905952e-03, 9.92090940e-01],\n",
              "       [8.46261024e-01, 1.53738946e-01],\n",
              "       [1.00433230e-02, 9.89956677e-01],\n",
              "       [8.80536795e-01, 1.19463183e-01],\n",
              "       [9.50083792e-01, 4.99162301e-02],\n",
              "       [9.85488772e-01, 1.45112555e-02],\n",
              "       [1.48521066e-02, 9.85147893e-01],\n",
              "       [8.63596737e-01, 1.36403278e-01],\n",
              "       [1.13485992e-01, 8.86514008e-01],\n",
              "       [4.02912498e-02, 9.59708750e-01],\n",
              "       [9.02922869e-01, 9.70771238e-02],\n",
              "       [9.59149241e-01, 4.08507586e-02],\n",
              "       [2.90530622e-01, 7.09469378e-01],\n",
              "       [9.93293703e-01, 6.70629926e-03],\n",
              "       [4.65811253e-01, 5.34188747e-01],\n",
              "       [3.00875783e-01, 6.99124217e-01],\n",
              "       [8.09556127e-01, 1.90443844e-01],\n",
              "       [9.77113187e-01, 2.28868332e-02],\n",
              "       [9.43129539e-01, 5.68704493e-02],\n",
              "       [1.43473148e-02, 9.85652685e-01],\n",
              "       [9.71639931e-01, 2.83600483e-02],\n",
              "       [1.34297490e-01, 8.65702510e-01],\n",
              "       [9.22269702e-01, 7.77303204e-02],\n",
              "       [9.66454387e-01, 3.35456431e-02],\n",
              "       [9.94974256e-01, 5.02573047e-03],\n",
              "       [4.96143103e-03, 9.95038569e-01],\n",
              "       [1.10731125e-02, 9.88926888e-01],\n",
              "       [9.85700011e-01, 1.42999897e-02],\n",
              "       [9.92310822e-01, 7.68918311e-03],\n",
              "       [9.89092410e-01, 1.09075885e-02],\n",
              "       [4.75880742e-01, 5.24119258e-01],\n",
              "       [7.51208365e-01, 2.48791635e-01],\n",
              "       [1.54051781e-02, 9.84594822e-01],\n",
              "       [7.53357470e-01, 2.46642515e-01],\n",
              "       [6.38165534e-01, 3.61834466e-01],\n",
              "       [4.99864817e-01, 5.00135183e-01],\n",
              "       [9.95808065e-01, 4.19193646e-03],\n",
              "       [6.08229637e-03, 9.93917704e-01],\n",
              "       [4.96143103e-03, 9.95038569e-01],\n",
              "       [5.07412434e-01, 4.92587537e-01],\n",
              "       [4.51624393e-03, 9.95483756e-01],\n",
              "       [9.61519659e-01, 3.84803154e-02],\n",
              "       [9.03941572e-01, 9.60584432e-02],\n",
              "       [8.43899012e-01, 1.56100973e-01],\n",
              "       [4.38630581e-03, 9.95613694e-01],\n",
              "       [1.05065465e-01, 8.94934535e-01],\n",
              "       [9.74767268e-01, 2.52327193e-02],\n",
              "       [5.25295734e-04, 9.99474704e-01],\n",
              "       [9.80914593e-01, 1.90854296e-02],\n",
              "       [8.29711258e-01, 1.70288742e-01],\n",
              "       [2.84242630e-03, 9.97157574e-01],\n",
              "       [3.86917591e-03, 9.96130824e-01],\n",
              "       [9.68290806e-01, 3.17092240e-02],\n",
              "       [9.84080255e-01, 1.59197431e-02],\n",
              "       [9.85908031e-01, 1.40919741e-02],\n",
              "       [5.48645258e-01, 4.51354712e-01],\n",
              "       [6.38165534e-01, 3.61834466e-01],\n",
              "       [9.06443477e-01, 9.35565382e-02],\n",
              "       [7.93142080e-01, 2.06857920e-01],\n",
              "       [5.74628174e-01, 4.25371826e-01],\n",
              "       [8.48417997e-01, 1.51581988e-01],\n",
              "       [1.49327517e-02, 9.85067248e-01],\n",
              "       [9.80705321e-01, 1.92947052e-02],\n",
              "       [9.92628813e-01, 7.37121422e-03],\n",
              "       [9.31891739e-01, 6.81082457e-02],\n",
              "       [9.96020854e-01, 3.97916185e-03],\n",
              "       [8.11087668e-01, 1.88912332e-01],\n",
              "       [2.51835585e-03, 9.97481644e-01],\n",
              "       [9.31290209e-01, 6.87097758e-02],\n",
              "       [9.77588594e-01, 2.24113800e-02],\n",
              "       [9.96917307e-01, 3.08268238e-03],\n",
              "       [5.70809841e-03, 9.94291902e-01],\n",
              "       [9.92087424e-01, 7.91254919e-03],\n",
              "       [1.13334656e-02, 9.88666534e-01],\n",
              "       [9.54245627e-01, 4.57543544e-02],\n",
              "       [9.85064268e-01, 1.49357310e-02],\n",
              "       [7.43669271e-03, 9.92563307e-01],\n",
              "       [9.94329810e-01, 5.67021454e-03],\n",
              "       [5.87821007e-04, 9.99412179e-01],\n",
              "       [9.87280428e-01, 1.27195995e-02],\n",
              "       [7.28514433e-01, 2.71485567e-01],\n",
              "       [5.32160640e-01, 4.67839390e-01],\n",
              "       [9.88560379e-01, 1.14396410e-02],\n",
              "       [9.57971454e-01, 4.20285761e-02],\n",
              "       [5.13151884e-02, 9.48684812e-01],\n",
              "       [1.80386603e-01, 8.19613397e-01],\n",
              "       [1.01325512e-02, 9.89867449e-01],\n",
              "       [1.35010481e-03, 9.98649895e-01],\n",
              "       [6.50108814e-01, 3.49891186e-01],\n",
              "       [5.72281182e-01, 4.27718818e-01],\n",
              "       [1.39850378e-03, 9.98601496e-01],\n",
              "       [9.98947799e-01, 1.05221360e-03],\n",
              "       [5.72281182e-01, 4.27718818e-01],\n",
              "       [7.56432950e-01, 2.43567050e-01]], dtype=float32)"
            ]
          },
          "execution_count": 48,
          "metadata": {},
          "output_type": "execute_result"
        }
      ],
      "source": [
        "xgb_model.predict_proba(New_test_X)"
      ]
    },
    {
      "cell_type": "code",
      "execution_count": 49,
      "metadata": {
        "colab": {
          "base_uri": "https://localhost:8080/"
        },
        "id": "8-xVt91yuyg_",
        "outputId": "fc8e2cbd-47a6-4437-8f30-b9844553e952"
      },
      "outputs": [],
      "source": [
        "# xgb_model.save_model(\"xgboost_model.pkl\")"
      ]
    },
    {
      "cell_type": "code",
      "execution_count": 50,
      "metadata": {
        "colab": {
          "base_uri": "https://localhost:8080/"
        },
        "id": "-GeJbWGKrdat",
        "outputId": "e6a4048f-b731-49d4-aa03-b7cd7cae9d6a"
      },
      "outputs": [
        {
          "name": "stdout",
          "output_type": "stream",
          "text": [
            "     Pclass  Sex   Age  SibSp  Parch     Fare  Embarked\n",
            "140       3    1  28.0      0      2  15.2458         1\n",
            "439       2    0  31.0      0      0  10.5000         0\n",
            "817       2    0  31.0      1      1  37.0042         1\n",
            "378       3    0  20.0      0      0   4.0125         1\n",
            "491       3    0  21.0      0      0   7.2500         0\n",
            "..      ...  ...   ...    ...    ...      ...       ...\n",
            "835       1    1  39.0      1      1  83.1583         1\n",
            "192       3    1  19.0      1      0   7.8542         0\n",
            "629       3    0  28.0      0      0   7.7333         2\n",
            "559       3    1  36.0      1      0  17.4000         0\n",
            "684       2    0  60.0      1      1  39.0000         0\n",
            "\n",
            "[712 rows x 7 columns]\n"
          ]
        }
      ],
      "source": [
        "print(X_train)"
      ]
    },
    {
      "cell_type": "code",
      "execution_count": 51,
      "metadata": {
        "id": "c7SvW-6NriFD"
      },
      "outputs": [],
      "source": [
        "X1=data.drop(columns=['Survived', 'PassengerId','SibSp','Parch','Fare'])\n",
        "y1=data.loc[:, 'Survived']"
      ]
    },
    {
      "cell_type": "code",
      "execution_count": 52,
      "metadata": {
        "colab": {
          "base_uri": "https://localhost:8080/",
          "height": 424
        },
        "id": "CpF9aop8rzXs",
        "outputId": "7dffda70-a609-45ba-ae2e-f881529cb071"
      },
      "outputs": [
        {
          "data": {
            "text/html": [
              "<div>\n",
              "<style scoped>\n",
              "    .dataframe tbody tr th:only-of-type {\n",
              "        vertical-align: middle;\n",
              "    }\n",
              "\n",
              "    .dataframe tbody tr th {\n",
              "        vertical-align: top;\n",
              "    }\n",
              "\n",
              "    .dataframe thead th {\n",
              "        text-align: right;\n",
              "    }\n",
              "</style>\n",
              "<table border=\"1\" class=\"dataframe\">\n",
              "  <thead>\n",
              "    <tr style=\"text-align: right;\">\n",
              "      <th></th>\n",
              "      <th>Pclass</th>\n",
              "      <th>Sex</th>\n",
              "      <th>Age</th>\n",
              "      <th>Embarked</th>\n",
              "    </tr>\n",
              "  </thead>\n",
              "  <tbody>\n",
              "    <tr>\n",
              "      <th>0</th>\n",
              "      <td>3</td>\n",
              "      <td>0</td>\n",
              "      <td>22.0</td>\n",
              "      <td>0</td>\n",
              "    </tr>\n",
              "    <tr>\n",
              "      <th>1</th>\n",
              "      <td>1</td>\n",
              "      <td>1</td>\n",
              "      <td>38.0</td>\n",
              "      <td>1</td>\n",
              "    </tr>\n",
              "    <tr>\n",
              "      <th>2</th>\n",
              "      <td>3</td>\n",
              "      <td>1</td>\n",
              "      <td>26.0</td>\n",
              "      <td>0</td>\n",
              "    </tr>\n",
              "    <tr>\n",
              "      <th>3</th>\n",
              "      <td>1</td>\n",
              "      <td>1</td>\n",
              "      <td>35.0</td>\n",
              "      <td>0</td>\n",
              "    </tr>\n",
              "    <tr>\n",
              "      <th>4</th>\n",
              "      <td>3</td>\n",
              "      <td>0</td>\n",
              "      <td>35.0</td>\n",
              "      <td>0</td>\n",
              "    </tr>\n",
              "    <tr>\n",
              "      <th>...</th>\n",
              "      <td>...</td>\n",
              "      <td>...</td>\n",
              "      <td>...</td>\n",
              "      <td>...</td>\n",
              "    </tr>\n",
              "    <tr>\n",
              "      <th>886</th>\n",
              "      <td>2</td>\n",
              "      <td>0</td>\n",
              "      <td>27.0</td>\n",
              "      <td>0</td>\n",
              "    </tr>\n",
              "    <tr>\n",
              "      <th>887</th>\n",
              "      <td>1</td>\n",
              "      <td>1</td>\n",
              "      <td>19.0</td>\n",
              "      <td>0</td>\n",
              "    </tr>\n",
              "    <tr>\n",
              "      <th>888</th>\n",
              "      <td>3</td>\n",
              "      <td>1</td>\n",
              "      <td>28.0</td>\n",
              "      <td>0</td>\n",
              "    </tr>\n",
              "    <tr>\n",
              "      <th>889</th>\n",
              "      <td>1</td>\n",
              "      <td>0</td>\n",
              "      <td>26.0</td>\n",
              "      <td>1</td>\n",
              "    </tr>\n",
              "    <tr>\n",
              "      <th>890</th>\n",
              "      <td>3</td>\n",
              "      <td>0</td>\n",
              "      <td>32.0</td>\n",
              "      <td>2</td>\n",
              "    </tr>\n",
              "  </tbody>\n",
              "</table>\n",
              "<p>891 rows × 4 columns</p>\n",
              "</div>"
            ],
            "text/plain": [
              "     Pclass  Sex   Age  Embarked\n",
              "0         3    0  22.0         0\n",
              "1         1    1  38.0         1\n",
              "2         3    1  26.0         0\n",
              "3         1    1  35.0         0\n",
              "4         3    0  35.0         0\n",
              "..      ...  ...   ...       ...\n",
              "886       2    0  27.0         0\n",
              "887       1    1  19.0         0\n",
              "888       3    1  28.0         0\n",
              "889       1    0  26.0         1\n",
              "890       3    0  32.0         2\n",
              "\n",
              "[891 rows x 4 columns]"
            ]
          },
          "execution_count": 52,
          "metadata": {},
          "output_type": "execute_result"
        }
      ],
      "source": [
        "X1"
      ]
    },
    {
      "cell_type": "code",
      "execution_count": 53,
      "metadata": {
        "id": "OSorSPQmr5UN"
      },
      "outputs": [],
      "source": [
        "X_train1, X_test1, y_train1, y_test1 = train_test_split(X1, y1, test_size=0.2, random_state=0)"
      ]
    },
    {
      "cell_type": "code",
      "execution_count": 54,
      "metadata": {
        "colab": {
          "base_uri": "https://localhost:8080/"
        },
        "id": "a70vV0COsCpK",
        "outputId": "67a4285b-b5c7-49ae-fc56-229c721abef2"
      },
      "outputs": [
        {
          "name": "stdout",
          "output_type": "stream",
          "text": [
            "Accuracy Score: 0.8379888268156425\n"
          ]
        }
      ],
      "source": [
        "xgb_model1 = xgb.XGBClassifier()\n",
        "xgb_model1.fit(X_train1, y_train1)\n",
        "\n",
        "# Predict on the test set\n",
        "xgb_results1 = xgb_model1.predict(X_test1)\n",
        "\n",
        "# Evaluate the accuracy of the model\n",
        "print(\"Accuracy Score:\", accuracy_score(y_test1, xgb_results1))"
      ]
    },
    {
      "cell_type": "code",
      "execution_count": 55,
      "metadata": {
        "colab": {
          "base_uri": "https://localhost:8080/"
        },
        "id": "O8syjGQ7sO-7",
        "outputId": "61fa44a1-75eb-4bb4-fcba-aeb8b2f2ccca"
      },
      "outputs": [
        {
          "name": "stderr",
          "output_type": "stream",
          "text": [
            "c:\\Users\\Sherwyn\\Downloads\\titanic\\titanic\\venv\\lib\\site-packages\\xgboost\\core.py:160: UserWarning: [12:23:41] WARNING: C:\\buildkite-agent\\builds\\buildkite-windows-cpu-autoscaling-group-i-0b3782d1791676daf-1\\xgboost\\xgboost-ci-windows\\src\\c_api\\c_api.cc:1240: Saving into deprecated binary model format, please consider using `json` or `ubj`. Model format will default to JSON in XGBoost 2.2 if not specified.\n",
            "  warnings.warn(smsg, UserWarning)\n"
          ]
        }
      ],
      "source": [
        "xgb_model1.save_model(\"xgboost_model.pkl\")"
      ]
    },
    {
      "cell_type": "code",
      "execution_count": 56,
      "metadata": {},
      "outputs": [
        {
          "data": {
            "text/plain": [
              "Index(['Pclass', 'Sex', 'Age', 'Embarked'], dtype='object')"
            ]
          },
          "execution_count": 56,
          "metadata": {},
          "output_type": "execute_result"
        }
      ],
      "source": [
        "X_test1.columns"
      ]
    },
    {
      "cell_type": "code",
      "execution_count": 57,
      "metadata": {
        "colab": {
          "base_uri": "https://localhost:8080/"
        },
        "id": "MxmscZMLDV5Q",
        "outputId": "ef3c6e45-65e0-419b-ed2f-3c2fa9a93770"
      },
      "outputs": [
        {
          "name": "stdout",
          "output_type": "stream",
          "text": [
            "<class 'pandas.core.frame.DataFrame'>\n",
            "Index: 179 entries, 495 to 372\n",
            "Data columns (total 4 columns):\n",
            " #   Column    Non-Null Count  Dtype  \n",
            "---  ------    --------------  -----  \n",
            " 0   Pclass    179 non-null    int64  \n",
            " 1   Sex       179 non-null    int64  \n",
            " 2   Age       179 non-null    float64\n",
            " 3   Embarked  179 non-null    int64  \n",
            "dtypes: float64(1), int64(3)\n",
            "memory usage: 7.0 KB\n"
          ]
        }
      ],
      "source": [
        "X_test1.info()"
      ]
    },
    {
      "cell_type": "code",
      "execution_count": 58,
      "metadata": {
        "colab": {
          "base_uri": "https://localhost:8080/",
          "height": 551
        },
        "id": "CfooEtErDD6o",
        "outputId": "55368db5-cbd0-4ecd-a83c-5e95cb5a1dba"
      },
      "outputs": [
        {
          "data": {
            "text/plain": [
              "0"
            ]
          },
          "execution_count": 58,
          "metadata": {},
          "output_type": "execute_result"
        }
      ],
      "source": [
        "xgb_results1 = xgb_model1.predict([[3,0,25.0,1]])[0]\n",
        "xgb_results1"
      ]
    },
    {
      "cell_type": "code",
      "execution_count": null,
      "metadata": {
        "colab": {
          "base_uri": "https://localhost:8080/"
        },
        "id": "Fax6vJChH3Qp",
        "outputId": "7630fd84-449a-4633-9e3a-888c89b19165"
      },
      "outputs": [],
      "source": []
    },
    {
      "cell_type": "code",
      "execution_count": null,
      "metadata": {},
      "outputs": [],
      "source": []
    }
  ],
  "metadata": {
    "colab": {
      "provenance": []
    },
    "kernelspec": {
      "display_name": "Python 3",
      "name": "python3"
    },
    "language_info": {
      "codemirror_mode": {
        "name": "ipython",
        "version": 3
      },
      "file_extension": ".py",
      "mimetype": "text/x-python",
      "name": "python",
      "nbconvert_exporter": "python",
      "pygments_lexer": "ipython3",
      "version": "3.10.4"
    }
  },
  "nbformat": 4,
  "nbformat_minor": 0
}
